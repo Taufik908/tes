{
 "cells": [
  {
   "cell_type": "markdown",
   "id": "f19e9420-fb52-496b-9360-72836109d9b5",
   "metadata": {},
   "source": [
    "# **LAPORAN PRAKTIKUM 12**  \n",
    "## **ALGORITMA & STRUKTUR DATA – GRAPHICAL OF PROBLEM SOLVING**  \n",
    "### **Program Studi Teknik Informatika – Universitas Muhammadiyah Kalimantan Timur**\n",
    "\n",
    "---\n"
   ]
  },
  {
   "cell_type": "markdown",
   "id": "3a120962-0d8c-4812-8790-d397b7b945d0",
   "metadata": {},
   "source": [
    "## Identitas Mahasiswa\n",
    "NAMA    : ...\n",
    "\n",
    "NIM     : ...\n",
    "\n",
    "KELAS   : ...\n",
    "\n",
    "---"
   ]
  },
  {
   "cell_type": "markdown",
   "id": "b44fcfba-b950-4a24-a67e-5bf9c0f8901c",
   "metadata": {},
   "source": [
    "\n",
    "## **1. Pendahuluan**  \n",
    "### **1.1 Latar Belakang**  \n",
    "Pemecahan masalah grafis melibatkan penggunaan diagram, grafik, dan visualisasi untuk menganalisis dan menyelesaikan masalah kompleks. Teknik ini banyak digunakan dalam pengembangan algoritma, desain sistem, dan analisis data. Praktikum ini berfokus pada implementasi visualisasi grafis menggunakan Python untuk memodelkan alur logika, relasi data, dan struktur sistem.\n",
    "\n",
    "### **1.2 Tujuan Praktikum**  \n",
    "- Memahami penerapan visualisasi grafis dalam pemecahan masalah.  \n",
    "- Mengimplementasikan library Python untuk membangun diagram alur (*flowchart*) dan grafik hubungan.  \n",
    "- Menganalisis efektivitas representasi grafis dalam optimasi algoritma.  \n",
    "\n",
    "---\n",
    "\n",
    "## **2. Materi Praktikum**  \n",
    "\n",
    "### **2.1 Konsep Dasar Pemodelan Grafis**  \n",
    "- **Flowchart**: Diagram alur untuk merepresentasikan langkah-langkah algoritma.  \n",
    "- **Graf Relasi**: Visualisasi hubungan antar entitas (node dan edge).  \n",
    "- **UML Diagram**: Pemodelan sistem berorientasi objek.  \n",
    "\n",
    "### **2.2 Library Visualisasi Python**  \n",
    "- **Graphviz**: Untuk membuat diagram alur dan graf.  \n",
    "- **Matplotlib**: Visualisasi data 2D/3D.  \n",
    "- **NetworkX**: Analisis jaringan dan graf.  \n",
    "\n",
    "---"
   ]
  },
  {
   "cell_type": "markdown",
   "id": "748f86b9-93df-47e0-bd39-39f346d94a65",
   "metadata": {},
   "source": [
    "\n",
    "## **3. Tugas Pendahuluan**  \n",
    "\n",
    "1. Jelaskan perbedaan antara flowchart dan UML diagram!  \n",
    "2. Sebutkan 3 jenis graf relasi beserta contoh aplikasinya!  \n",
    "3. Mengapa visualisasi grafis penting dalam tahap analisis masalah?  \n",
    "\n",
    "---\n"
   ]
  },
  {
   "cell_type": "code",
   "execution_count": 1,
   "id": "ba8efdef-bec4-456a-8687-6ee82137865d",
   "metadata": {},
   "outputs": [],
   "source": [
    "# Jelaskan apa yang anda pahami dari penjelasan di atas\n"
   ]
  },
  {
   "cell_type": "markdown",
   "id": "a2bbf7ac-ff63-4155-8dbd-640e4fdeb329",
   "metadata": {},
   "source": [
    "Berikut susunan soal yang **sudah diurutkan dari yang paling mudah ke yang paling menantang**, berdasarkan tingkat kompleksitas logika, sintaks, dan pemahaman visualisasi:\n",
    "\n",
    "---\n",
    "\n",
    "## **4. Percobaan & Latihan Visualisasi dan Algoritma**\n",
    "\n",
    "---\n",
    "\n",
    "### **4.1 Flowchart Dasar: Menentukan Bilangan Ganjil atau Genap**\n",
    "<img src=\"1.jpg\" width=\"850px\" alt=\"Deskripsi Gambar\" />\n",
    "\n",
    "---\n"
   ]
  },
  {
   "cell_type": "code",
   "execution_count": 2,
   "id": "fde355f5-f7e5-4408-b87c-bfb4f2b91859",
   "metadata": {},
   "outputs": [],
   "source": [
    "# Ketikan kode dan penjelasan disini!\n"
   ]
  },
  {
   "cell_type": "markdown",
   "id": "bf4b16ed-3d15-43af-a2c9-9a9e3e673bab",
   "metadata": {},
   "source": [
    "\n",
    "### **4.2 Visualisasi Data dengan Matplotlib**\n",
    "<img src=\"2.jpg\" width=\"650px\" alt=\"Deskripsi Gambar\" />\n",
    "\n",
    "---\n"
   ]
  },
  {
   "cell_type": "code",
   "execution_count": 1,
   "id": "ecf2371d-3107-4374-905a-55697aa051e5",
   "metadata": {},
   "outputs": [],
   "source": [
    "# Ketikan kode dan penjelasan disini!\n"
   ]
  },
  {
   "cell_type": "markdown",
   "id": "ad7ec3a7-6fd2-4410-9f81-3140438b38c3",
   "metadata": {},
   "source": [
    "\n",
    "### **4.3 Visualisasi Graf Relasi dengan NetworkX**\n",
    "\n",
    "<img src=\"3.jpg\" width=\"650px\" alt=\"Deskripsi Gambar\" />\n",
    "---"
   ]
  },
  {
   "cell_type": "code",
   "execution_count": 1,
   "id": "38882d65-2106-485a-85be-bdde8249fafe",
   "metadata": {},
   "outputs": [],
   "source": [
    "# Ketikan kode dan penjelasan disini!\n"
   ]
  },
  {
   "cell_type": "markdown",
   "id": "3ec31b5c-39a0-41a9-bd34-7fd8c270aa80",
   "metadata": {},
   "source": [
    "\n",
    "\n",
    "### **4.4 Flowchart dengan Graphviz: Linear dan Binary Search**\n",
    "<img src=\"4.jpg\" width=\"450px\" alt=\"Deskripsi Gambar\" />\n",
    "\n",
    "---"
   ]
  },
  {
   "cell_type": "code",
   "execution_count": 3,
   "id": "0c7c6425-1580-4d6b-87ac-01098e132fc9",
   "metadata": {},
   "outputs": [],
   "source": [
    "# Ketikan kode dan penjelasan disini!\n"
   ]
  },
  {
   "cell_type": "markdown",
   "id": "e098a100-8966-4e45-8770-57e3cf7f820a",
   "metadata": {},
   "source": [
    "\n",
    "\n",
    "### **4.5 Pemodelan Kelas Objek: UML Diagram dengan PlantUML**\n",
    "<img src=\"5.jpg\" width=\"650px\" alt=\"Deskripsi Gambar\" />\n",
    "\n",
    "---"
   ]
  },
  {
   "cell_type": "code",
   "execution_count": 1,
   "id": "5f0fe33b-b9b5-43ad-adde-b99406971104",
   "metadata": {},
   "outputs": [],
   "source": [
    "# Ketikan kode dan penjelasan disini!\n"
   ]
  },
  {
   "cell_type": "markdown",
   "id": "2addb275-0449-4ec3-8028-47ce3180b1ec",
   "metadata": {},
   "source": [
    "### **4. Studi Literasi**  \n",
    "Bacalah referensi berikut:  \n",
    "- Steven S. Skiena, *The Algorithm Design Manual* (Bab 6: Graph Algorithms).  \n",
    "- Dokumentasi Resmi Graphviz: [Graphviz Documentation](https://graphviz.org/documentation/)  \n",
    "- GeeksforGeeks: [NetworkX Tutorial](https://www.geeksforgeeks.org/networkx-python-software-package/)  \n",
    "\n",
    "> **first:** Tuliskan rangkuman temuan Anda tentang **prinsip desain grafis**, **pemilihan jenis diagram**, dan **best practice visualisasi data**!\n",
    "\n",
    "1. **Summary dan Analisa Percobaan**  \n",
    "   - Bandingkan efektivitas Graphviz vs NetworkX untuk visualisasi grafis!  \n",
    "   - Analisis keunggulan Matplotlib dalam representasi data numerik!  \n",
    "\n",
    "2. **Kesimpulan Praktikum**  \n",
    "   - Berikan rekomendasi tools grafis berdasarkan skenario:  \n",
    "     a) Dokumentasi alur algoritma  \n",
    "     b) Analisis jaringan sosial  \n",
    "     c) Representasi data saintifik  \n",
    "---"
   ]
  },
  {
   "cell_type": "code",
   "execution_count": null,
   "id": "8212cb15-3282-40b5-bbb6-315085b4fa7e",
   "metadata": {},
   "outputs": [],
   "source": [
    "# Ketikan penjelasan disini!\n"
   ]
  },
  {
   "cell_type": "markdown",
   "id": "3fde2a88-07f8-463e-bac1-e3a87afdb3b2",
   "metadata": {},
   "source": [
    "---\n",
    "\n",
    "## **5. Format File Tugas**  \n",
    "- **Tugas dikumpulkan dalam format Jupyter Notebook (`.ipynb`).**  \n",
    "- Gunakan format Markdown untuk dokumentasi di dalam notebook.\n",
    "- Pastikan setiap bagian memiliki heading (`#` untuk judul, `##` untuk subjudul).  \n",
    "- **File tugas diberi nama: `P12_Nama_NIM.ipynb`**  \n",
    "- **🚨 <span style=\"color:darkred; font-weight:bold; font-size:18px;\">PLAGIAT AKAN DIBERI SANKSI TANPA AMPUN! 🚨</span>**  \n"
   ]
  }
 ],
 "metadata": {
  "kernelspec": {
   "display_name": "Python 3 (ipykernel)",
   "language": "python",
   "name": "python3"
  },
  "language_info": {
   "codemirror_mode": {
    "name": "ipython",
    "version": 3
   },
   "file_extension": ".py",
   "mimetype": "text/x-python",
   "name": "python",
   "nbconvert_exporter": "python",
   "pygments_lexer": "ipython3",
   "version": "3.12.2"
  },
  "widgets": {
   "application/vnd.jupyter.widget-state+json": {
    "state": {},
    "version_major": 2,
    "version_minor": 0
   }
  }
 },
 "nbformat": 4,
 "nbformat_minor": 5
}
