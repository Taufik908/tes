{
 "cells": [
  {
   "cell_type": "markdown",
   "id": "f19e9420-fb52-496b-9360-72836109d9b5",
   "metadata": {},
   "source": [
    "# **LAPORAN PRAKTIKUM 7**  \n",
    "## **ALGORITMA & STRUKTUR DATA – STRUKTUR DATA DASAR (2)**  \n",
    "### **Program Studi Teknik Informatika – Universitas Muhammadiyah Kalimantan Timur**  \n",
    "\n",
    "---\n"
   ]
  },
  {
   "cell_type": "markdown",
   "id": "3a120962-0d8c-4812-8790-d397b7b945d0",
   "metadata": {},
   "source": [
    "## Identitas Mahasiswa\n",
    "NAMA    : ...\n",
    "\n",
    "NIM     : ...\n",
    "\n",
    "KELAS   : ...\n",
    "\n",
    "---"
   ]
  },
  {
   "cell_type": "markdown",
   "id": "b44fcfba-b950-4a24-a67e-5bf9c0f8901c",
   "metadata": {},
   "source": [
    "## **1. Pendahuluan**  \n",
    "### **1.1 Latar Belakang**  \n",
    "Struktur data Queue (antrian) dan Deque (antrian ganda) merupakan struktur data linier yang penting dalam ilmu komputer. Queue mengikuti prinsip FIFO (First-In First-Out), sedangkan Deque memungkinkan operasi penambahan dan penghapusan dari kedua ujung. Praktikum ini juga akan membahas implementasi Linked List (daftar berantai) terurut dan tidak terurut.\n",
    "\n",
    "### **1.2 Tujuan Praktikum**  \n",
    "Mahasiswa diharapkan mampu:  \n",
    "^ Memahami implementasi Queue dan Deque di Python  \n",
    "^ Menerapkan Queue untuk simulasi nyata  \n",
    "^ Mengimplementasikan Linked List terurut dan tidak terurut  \n",
    "^ Menganalisis kompleksitas operasi struktur data  \n",
    "\n",
    "---\n"
   ]
  },
  {
   "cell_type": "markdown",
   "id": "748f86b9-93df-47e0-bd39-39f346d94a65",
   "metadata": {},
   "source": [
    "\n",
    "## **2. Materi Praktikum**  \n",
    "### **2.1 Queue (Antrian)**  \n",
    "Struktur data dengan prinsip First-In First-Out (FIFO) dengan operasi:  \n",
    "- enqueue: Menambahkan elemen di belakang  \n",
    "- dequeue: Menghapus elemen dari depan  \n",
    "- size: Ukuran antrian  \n",
    "\n",
    "### **2.2 Deque (Antrian Ganda)**  \n",
    "Struktur data yang memungkinkan operasi penambahan dan penghapusan dari kedua ujung:  \n",
    "- addFront/addRear  \n",
    "- removeFront/removeRear  \n",
    "\n",
    "### **2.3 Linked List**  \n",
    "Koleksi elemen data yang dihubungkan melalui pointer:  \n",
    "- Unordered List: Tidak mempertahankan urutan  \n",
    "- Ordered List: Terurut berdasarkan nilai  \n",
    "\n",
    "---\n",
    "\n",
    "## **3. Tugas Pendahuluan**  \n",
    "1. Jelaskan perbedaan utama antara Stack dan Queue!  \n",
    "2. Mengapa Deque disebut sebagai struktur data hibrid?  \n",
    "3. Apa keuntungan menggunakan Linked List dibandingkan array?  \n",
    "\n",
    "---"
   ]
  },
  {
   "cell_type": "code",
   "execution_count": null,
   "id": "ba8efdef-bec4-456a-8687-6ee82137865d",
   "metadata": {},
   "outputs": [],
   "source": [
    "# Jelaskan apa yang anda pahami dari penjelasan di atas\n"
   ]
  },
  {
   "cell_type": "markdown",
   "id": "a2bbf7ac-ff63-4155-8dbd-640e4fdeb329",
   "metadata": {},
   "source": [
    "## **4. Percobaan & Latihan**  \n",
    "### **4.1 Implementasi Queue**  \n",
    "<img src=\"1.jpg\" width=\"550px\" alt=\"Deskripsi Gambar\" />\n",
    "\n",
    "---\n"
   ]
  },
  {
   "cell_type": "code",
   "execution_count": 1,
   "id": "fde355f5-f7e5-4408-b87c-bfb4f2b91859",
   "metadata": {},
   "outputs": [
    {
     "name": "stdout",
     "output_type": "stream",
     "text": [
      "False\n"
     ]
    }
   ],
   "source": [
    "# Ketikan kode dan penjelasan disini!\n"
   ]
  },
  {
   "cell_type": "markdown",
   "id": "bf4b16ed-3d15-43af-a2c9-9a9e3e673bab",
   "metadata": {},
   "source": [
    "### **4.2 Simulasi Hot Potato**  \n",
    "<img src=\"2.jpg\" width=\"550px\" alt=\"Deskripsi Gambar\" />\n",
    "\n",
    "\n"
   ]
  },
  {
   "cell_type": "code",
   "execution_count": 1,
   "id": "ecf2371d-3107-4374-905a-55697aa051e5",
   "metadata": {},
   "outputs": [],
   "source": [
    "# Ketikan kode dan penjelasan disini!\n"
   ]
  },
  {
   "cell_type": "markdown",
   "id": "ad7ec3a7-6fd2-4410-9f81-3140438b38c3",
   "metadata": {},
   "source": [
    "### **4.3 Implementasi Deque**  \n",
    "<img src=\"3.jpg\" width=\"350px\" alt=\"Deskripsi Gambar\" />\n",
    "\n",
    "---\n"
   ]
  },
  {
   "cell_type": "code",
   "execution_count": 1,
   "id": "38882d65-2106-485a-85be-bdde8249fafe",
   "metadata": {},
   "outputs": [],
   "source": [
    "# Ketikan kode dan penjelasan disini!\n"
   ]
  },
  {
   "cell_type": "markdown",
   "id": "2addb275-0449-4ec3-8028-47ce3180b1ec",
   "metadata": {},
   "source": [
    "\n",
    "### **4.4 Palindrome Checker**  \n",
    "<img src=\"4.jpg\" width=\"550px\" alt=\"Deskripsi Gambar\" />\n",
    "\n",
    "---\n"
   ]
  },
  {
   "cell_type": "code",
   "execution_count": 1,
   "id": "8212cb15-3282-40b5-bbb6-315085b4fa7e",
   "metadata": {},
   "outputs": [],
   "source": [
    "# Ketikan penjelasan disini!\n"
   ]
  },
  {
   "cell_type": "markdown",
   "id": "11dc5a64-91b6-449f-92d4-16cea5756495",
   "metadata": {},
   "source": [
    "\n",
    "### **4.5 Unordered List**  \n",
    "<img src=\"5.jpg\" width=\"450px\" alt=\"Deskripsi Gambar\" />\n"
   ]
  },
  {
   "cell_type": "code",
   "execution_count": null,
   "id": "fae492f0-877d-455f-a0b2-a131cdf7b49d",
   "metadata": {},
   "outputs": [],
   "source": [
    "# Ketikan penjelasan disini!\n"
   ]
  },
  {
   "cell_type": "markdown",
   "id": "e2894efc-75cb-409f-9807-0809552f5448",
   "metadata": {},
   "source": [
    "\n",
    "### **4.6 Ordered List**  \n",
    "<img src=\"6.jpg\" width=\"450px\" alt=\"Deskripsi Gambar\" />\n",
    "\n",
    "---\n"
   ]
  },
  {
   "cell_type": "code",
   "execution_count": null,
   "id": "c7963b7c-3761-43b6-af9f-e7fdae974624",
   "metadata": {},
   "outputs": [],
   "source": [
    "# Ketikan penjelasan disini!\n"
   ]
  },
  {
   "cell_type": "markdown",
   "id": "3fde2a88-07f8-463e-bac1-e3a87afdb3b2",
   "metadata": {},
   "source": [
    "---\n",
    "\n",
    "- File dalam format Jupyter Notebook (.ipynb)  \n",
    "- Penamaan: `P7_Nama_NIM.ipynb`  \n",
    "- Gunakan Markdown untuk dokumentasi  \n",
    "- Kode harus executable dan berhasil dikompilasi  \n",
    "- Analisis hasil harus detail  \n",
    "- **🚨 <span style=\"color:darkred; font-weight:bold; font-size:18px;\">PLAGIAT AKAN DIBERI SANKSI TANPA AMPUN! 🚨</span>**  \n"
   ]
  }
 ],
 "metadata": {
  "kernelspec": {
   "display_name": "Python 3 (ipykernel)",
   "language": "python",
   "name": "python3"
  },
  "language_info": {
   "codemirror_mode": {
    "name": "ipython",
    "version": 3
   },
   "file_extension": ".py",
   "mimetype": "text/x-python",
   "name": "python",
   "nbconvert_exporter": "python",
   "pygments_lexer": "ipython3",
   "version": "3.12.2"
  },
  "widgets": {
   "application/vnd.jupyter.widget-state+json": {
    "state": {},
    "version_major": 2,
    "version_minor": 0
   }
  }
 },
 "nbformat": 4,
 "nbformat_minor": 5
}
