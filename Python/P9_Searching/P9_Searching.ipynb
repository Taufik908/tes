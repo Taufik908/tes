{
 "cells": [
  {
   "cell_type": "markdown",
   "id": "f19e9420-fb52-496b-9360-72836109d9b5",
   "metadata": {},
   "source": [
    "# **LAPORAN PRAKTIKUM 9**  \n",
    "## **ALGORITMA & STRUKTUR DATA – PENCARIAN (SEARCHING)**  \n",
    "### **Program Studi Teknik Informatika – Universitas Muhammadiyah Kalimantan Timur**  \n",
    "\n",
    "---\n"
   ]
  },
  {
   "cell_type": "markdown",
   "id": "3a120962-0d8c-4812-8790-d397b7b945d0",
   "metadata": {},
   "source": [
    "## Identitas Mahasiswa\n",
    "NAMA    : ...\n",
    "\n",
    "NIM     : ...\n",
    "\n",
    "KELAS   : ...\n",
    "\n",
    "---"
   ]
  },
  {
   "cell_type": "markdown",
   "id": "b44fcfba-b950-4a24-a67e-5bf9c0f8901c",
   "metadata": {},
   "source": [
    "\n",
    "## **1. Pendahuluan**  \n",
    "### **1.1 Latar Belakang**  \n",
    "Pencarian (*searching*) adalah proses fundamental dalam ilmu komputer untuk menemukan data atau informasi tertentu dari kumpulan data. Praktikum ini membahas algoritma pencarian dasar seperti **Linear Search** dan **Binary Search**, serta teknik pencarian lanjutan seperti **Hashing**. Pemahaman tentang efisiensi dan aplikasi masing-masing algoritma penting untuk optimasi sistem.  \n",
    "\n",
    "### **1.2 Tujuan Praktikum**  \n",
    "Mahasiswa diharapkan mampu:  \n",
    "- Memahami implementasi algoritma pencarian di Python  \n",
    "- Menganalisis kompleksitas waktu algoritma pencarian  \n",
    "- Memilih algoritma pencarian yang tepat berdasarkan karakteristik data  \n",
    "\n",
    "---\n",
    "\n",
    "## **2. Materi Praktikum**  \n",
    "\n",
    "### **2.1 Linear Search**  \n",
    "- **Konsep**: Memeriksa setiap elemen secara berurutan hingga data ditemukan atau seluruh data terproses.  \n",
    "- **Kompleksitas**: O(n) untuk kasus terburuk.  \n",
    "\n",
    "### **2.2 Binary Search**  \n",
    "- **Konsep**: Mencari data pada larik terurut dengan membagi interval pencarian menjadi dua bagian.  \n",
    "- **Kompleksitas**: O(log n).  \n",
    "\n",
    "### **2.3 Hashing**  \n",
    "- **Konsep**: Menggunakan fungsi hash untuk memetakan data ke indeks dalam struktur tabel hash.  \n",
    "\n",
    "---\n"
   ]
  },
  {
   "cell_type": "markdown",
   "id": "748f86b9-93df-47e0-bd39-39f346d94a65",
   "metadata": {},
   "source": [
    "\n",
    "## **3. Tugas Pendahuluan**  \n",
    "\n",
    "1. Jelaskan perbedaan antara Linear Search dan Binary Search!  \n",
    "2. Mengapa Binary Search hanya bisa digunakan pada data yang terurut?  \n",
    "3. Apa yang terjadi jika terjadi kolisi (*collision*) dalam teknik hashing?  \n",
    "\n",
    "---\n"
   ]
  },
  {
   "cell_type": "code",
   "execution_count": null,
   "id": "ba8efdef-bec4-456a-8687-6ee82137865d",
   "metadata": {},
   "outputs": [],
   "source": [
    "# Jelaskan apa yang anda pahami dari penjelasan di atas\n"
   ]
  },
  {
   "cell_type": "markdown",
   "id": "a2bbf7ac-ff63-4155-8dbd-640e4fdeb329",
   "metadata": {},
   "source": [
    "\n",
    "---\n",
    "\n",
    "## **4. Percobaan & Latihan**  \n",
    "\n",
    "### **4.1 Percobaan 9.1: Linear Search**  \n",
    "<img src=\"1.jpg\" width=\"550px\" alt=\"Deskripsi Gambar\" />\n",
    "\n",
    "---\n",
    "\n"
   ]
  },
  {
   "cell_type": "code",
   "execution_count": 1,
   "id": "fde355f5-f7e5-4408-b87c-bfb4f2b91859",
   "metadata": {},
   "outputs": [],
   "source": [
    "# Ketikan kode dan penjelasan disini!\n"
   ]
  },
  {
   "cell_type": "markdown",
   "id": "bf4b16ed-3d15-43af-a2c9-9a9e3e673bab",
   "metadata": {},
   "source": [
    "\n",
    "### **4.2 Percobaan 9.2: Binary Search**  \n",
    "<img src=\"2.jpg\" width=\"650px\" alt=\"Deskripsi Gambar\" />\n",
    "\n",
    "---\n"
   ]
  },
  {
   "cell_type": "code",
   "execution_count": 1,
   "id": "ecf2371d-3107-4374-905a-55697aa051e5",
   "metadata": {},
   "outputs": [],
   "source": [
    "# Ketikan kode dan penjelasan disini!\n"
   ]
  },
  {
   "cell_type": "markdown",
   "id": "ad7ec3a7-6fd2-4410-9f81-3140438b38c3",
   "metadata": {},
   "source": [
    "\n",
    "### **4.3 Percobaan 9.3: Hashing dengan Dictionary Python**  \n",
    "<img src=\"3.jpg\" width=\"650px\" alt=\"Deskripsi Gambar\" />\n",
    "\n",
    "---\n"
   ]
  },
  {
   "cell_type": "code",
   "execution_count": 1,
   "id": "38882d65-2106-485a-85be-bdde8249fafe",
   "metadata": {},
   "outputs": [],
   "source": [
    "# Ketikan kode dan penjelasan disini!\n"
   ]
  },
  {
   "cell_type": "markdown",
   "id": "4816c461-7dfb-450f-9b21-b6f0e0e0cefa",
   "metadata": {},
   "source": [
    "\n",
    "### **4.4 Percobaan 9.4: Visualisasi Binary Search**  \n",
    "<img src=\"4.jpg\" width=\"650px\" alt=\"Deskripsi Gambar\" />\n",
    "---"
   ]
  },
  {
   "cell_type": "code",
   "execution_count": 1,
   "id": "d7de6f4f-7574-4c5d-9dc6-512e6204658e",
   "metadata": {},
   "outputs": [],
   "source": [
    "# Ketikan kode dan penjelasan disini!\n"
   ]
  },
  {
   "cell_type": "markdown",
   "id": "2addb275-0449-4ec3-8028-47ce3180b1ec",
   "metadata": {},
   "source": [
    "## **5. Studi Literasi**  \n",
    "Bacalah referensi berikut ini terkait searching:  \n",
    "- Cormen, T.H., Leiserson, C.E., Rivest, R.L., & Stein, C. (2009). *Introduction to Algorithms* (Bab 11: Hash Tables).  \n",
    "- Dokumentasi Python: [Complexities of Search Algorithms](https://wiki.python.org/moin/TimeComplexity)  \n",
    "- GeeksforGeeks: [Searching Algorithms](https://www.geeksforgeeks.org/searching-algorithms/)  \n",
    "\n",
    "1. **Ringkasan Hasil Percobaan**  \n",
    "   - Bandingkan kecepatan Linear Search vs Binary Search untuk data berukuran 10.000 elemen!  \n",
    "   - Analisis kasus terbaik dan terburuk dari Hashing!  \n",
    "\n",
    "2. **Kesimpulan Praktikum**  \n",
    "   - Berikan rekomendasi penggunaan algoritma pencarian berdasarkan skenario:  \n",
    "     a) Data acak dan kecil  \n",
    "     b) Data besar dan terurut  \n",
    "     c) Akses cepat dengan key unik  "
   ]
  },
  {
   "cell_type": "code",
   "execution_count": null,
   "id": "8212cb15-3282-40b5-bbb6-315085b4fa7e",
   "metadata": {},
   "outputs": [],
   "source": [
    "# Ketikan penjelasan disini!\n"
   ]
  },
  {
   "cell_type": "markdown",
   "id": "3fde2a88-07f8-463e-bac1-e3a87afdb3b2",
   "metadata": {},
   "source": [
    "---\n",
    "\n",
    "## **5. Format File Tugas**  \n",
    "- **Tugas dikumpulkan dalam format Jupyter Notebook (`.ipynb`).**  \n",
    "- Gunakan format Markdown untuk dokumentasi di dalam notebook.\n",
    "- Pastikan setiap bagian memiliki heading (`#` untuk judul, `##` untuk subjudul).  \n",
    "- **File tugas diberi nama: `P9_Nama_NIM.ipynb`**  \n",
    "- **🚨 <span style=\"color:darkred; font-weight:bold; font-size:18px;\">PLAGIAT AKAN DIBERI SANKSI TANPA AMPUN! 🚨</span>**  \n"
   ]
  }
 ],
 "metadata": {
  "kernelspec": {
   "display_name": "Python 3 (ipykernel)",
   "language": "python",
   "name": "python3"
  },
  "language_info": {
   "codemirror_mode": {
    "name": "ipython",
    "version": 3
   },
   "file_extension": ".py",
   "mimetype": "text/x-python",
   "name": "python",
   "nbconvert_exporter": "python",
   "pygments_lexer": "ipython3",
   "version": "3.12.2"
  },
  "widgets": {
   "application/vnd.jupyter.widget-state+json": {
    "state": {},
    "version_major": 2,
    "version_minor": 0
   }
  }
 },
 "nbformat": 4,
 "nbformat_minor": 5
}
