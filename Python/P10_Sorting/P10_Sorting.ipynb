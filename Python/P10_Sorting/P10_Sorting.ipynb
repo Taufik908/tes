{
 "cells": [
  {
   "cell_type": "markdown",
   "id": "f19e9420-fb52-496b-9360-72836109d9b5",
   "metadata": {},
   "source": [
    "# **LAPORAN PRAKTIKUM 10**  \n",
    "## **ALGORITMA & STRUKTUR DATA – SORTING**  \n",
    "### **Program Studi Teknik Informatika – Universitas Muhammadiyah Kalimantan Timur**  \n",
    "\n",
    "---\n"
   ]
  },
  {
   "cell_type": "markdown",
   "id": "3a120962-0d8c-4812-8790-d397b7b945d0",
   "metadata": {},
   "source": [
    "## Identitas Mahasiswa\n",
    "NAMA    : ...\n",
    "\n",
    "NIM     : ...\n",
    "\n",
    "KELAS   : ...\n",
    "\n",
    "---"
   ]
  },
  {
   "cell_type": "markdown",
   "id": "b44fcfba-b950-4a24-a67e-5bf9c0f8901c",
   "metadata": {},
   "source": [
    "\n",
    "## **1. Pendahuluan**  \n",
    "### **1.1 Latar Belakang**  \n",
    "Sorting (pengurutan) adalah proses penting dalam pengolahan data. Banyak operasi seperti pencarian dan analisis data yang menjadi lebih efisien jika data sudah terurut. Ada berbagai teknik sorting yang dikembangkan, dengan karakteristik, keunggulan, serta kelemahannya masing-masing. Praktikum ini membahas implementasi dan analisis beberapa teknik sorting populer.\n",
    "\n",
    "### **1.2 Tujuan Praktikum**  \n",
    "- Memahami implementasi algoritma sorting dengan berbagai teknik.  \n",
    "- Memahami perbedaan algoritma sorting satu dengan lainnya.\n",
    "\n",
    "---\n",
    "\n",
    "## **2. Materi Praktikum**\n",
    "\n",
    "### **2.1 Konsep Dasar Sorting**  \n",
    "Sorting adalah proses menyusun data sehingga elemen-elemennya berada dalam urutan tertentu (misal menaik/menurun).  \n",
    "Beberapa teknik sorting yang dipelajari:  \n",
    "- Bubble Sort  \n",
    "- Selection Sort  \n",
    "- Insertion Sort  \n",
    "- Shell Sort  \n",
    "- Merge Sort  \n",
    "- Quick Sort  \n",
    "\n",
    "Masing-masing memiliki prinsip kerja dan kompleksitas yang berbeda.\n",
    "\n",
    "---\n"
   ]
  },
  {
   "cell_type": "markdown",
   "id": "748f86b9-93df-47e0-bd39-39f346d94a65",
   "metadata": {},
   "source": [
    "\n",
    "## **3. Tugas Pendahuluan**  \n",
    "\n",
    "1. Jelaskan secara singkat konsep dasar sorting dan mengapa sorting penting dalam pengolahan data!\n",
    "2. Sebutkan minimal 3 algoritma sorting beserta kelebihan dan kekurangannya!\n",
    "3. Apa yang dimaksud dengan kompleksitas waktu (time complexity) dalam algoritma sorting?  \n",
    "\n",
    "---\n"
   ]
  },
  {
   "cell_type": "code",
   "execution_count": null,
   "id": "ba8efdef-bec4-456a-8687-6ee82137865d",
   "metadata": {},
   "outputs": [],
   "source": [
    "# Jelaskan apa yang anda pahami dari penjelasan di atas\n"
   ]
  },
  {
   "cell_type": "markdown",
   "id": "a2bbf7ac-ff63-4155-8dbd-640e4fdeb329",
   "metadata": {},
   "source": [
    "\n",
    "---\n",
    "## **4. Percobaan & Latihan**\n",
    "\n",
    "### **4.1 Percobaan & Latihan 10.1: Bubble Sort**\n",
    "<img src=\"1.jpg\" width=\"650px\" alt=\"Deskripsi Gambar\" />\n",
    "\n",
    "---\n"
   ]
  },
  {
   "cell_type": "code",
   "execution_count": 3,
   "id": "fde355f5-f7e5-4408-b87c-bfb4f2b91859",
   "metadata": {},
   "outputs": [
    {
     "name": "stdout",
     "output_type": "stream",
     "text": [
      "[17, 20, 26, 31, 44, 54, 55, 77, 93]\n"
     ]
    }
   ],
   "source": [
    "# Ketikan kode dan penjelasan disini!\n",
    "\n",
    "def bubbleSort1(alist):\n",
    "    for passnum in range(len(alist)-1,0,-1):\n",
    "        for i in range(passnum):\n",
    "            if alist[i]>alist[i+1]:\n",
    "                temp = alist[i]\n",
    "                alist[i] = alist[i+1]\n",
    "                alist[i+1] = temp\n",
    "    return alist\n",
    "\n",
    "myList = [54, 26, 93, 17, 77, 31, 44, 55, 20]\n",
    "print(bubbleSort1(myList.copy()))\n",
    "\n",
    "# Method copy() digunakan untuk membuat salinan (copy) dari list myList.\n",
    "# Dengan menggunakan myList.copy(), kita memastikan bahwa fungsi bubbleSort1 bekerja pada salinan list,\n",
    "# sehingga myList asli tidak berubah setelah pemanggilan fungsi.\n",
    "# Jika tidak menggunakan copy(), maka myList akan terurut permanen setelah fungsi dijalankan."
   ]
  },
  {
   "cell_type": "markdown",
   "id": "bf4b16ed-3d15-43af-a2c9-9a9e3e673bab",
   "metadata": {},
   "source": [
    "\n",
    "### **4.2 Percobaan & Latihan 10.2: Selection Sort**\n",
    "\n",
    "<img src=\"2.jpg\" width=\"650px\" alt=\"Deskripsi Gambar\" />\n",
    "\n",
    "---\n"
   ]
  },
  {
   "cell_type": "code",
   "execution_count": 1,
   "id": "ecf2371d-3107-4374-905a-55697aa051e5",
   "metadata": {},
   "outputs": [],
   "source": [
    "# Ketikan kode dan penjelasan disini!\n"
   ]
  },
  {
   "cell_type": "markdown",
   "id": "ad7ec3a7-6fd2-4410-9f81-3140438b38c3",
   "metadata": {},
   "source": [
    "\n",
    "### **4.3 Percobaan & Latihan 10.3: Insertion Sort**\n",
    "\n",
    "<img src=\"3.jpg\" width=\"650px\" alt=\"Deskripsi Gambar\" />\n",
    "\n",
    "---\n"
   ]
  },
  {
   "cell_type": "code",
   "execution_count": 1,
   "id": "38882d65-2106-485a-85be-bdde8249fafe",
   "metadata": {},
   "outputs": [],
   "source": [
    "# Ketikan kode dan penjelasan disini!\n"
   ]
  },
  {
   "cell_type": "markdown",
   "id": "810d8af3-510c-4851-94ac-46d67044eaa6",
   "metadata": {},
   "source": [
    "\n",
    "### **4.4 Percobaan & Latihan 10.4: Shell Sort**\n",
    "\n",
    "<img src=\"4.jpg\" width=\"650px\" alt=\"Deskripsi Gambar\" />\n",
    "\n",
    "---\n"
   ]
  },
  {
   "cell_type": "code",
   "execution_count": 1,
   "id": "a5daa1d0-2649-48d0-bfec-4254a08772fc",
   "metadata": {},
   "outputs": [],
   "source": [
    "# Ketikan kode dan penjelasan disini!\n"
   ]
  },
  {
   "cell_type": "markdown",
   "id": "ec57f435-ab8a-4367-9d4f-8e8f08d9fde3",
   "metadata": {},
   "source": [
    "\n",
    "### **4.5 Percobaan & Latihan 10.5: Merge Sort**\n",
    "<img src=\"5.jpg\" width=\"650px\" alt=\"Deskripsi Gambar\" />\n",
    "---\n",
    "\n"
   ]
  },
  {
   "cell_type": "code",
   "execution_count": 1,
   "id": "3841ffd5-c261-4551-b79e-c893fa6de35e",
   "metadata": {},
   "outputs": [],
   "source": [
    "# Ketikan kode dan penjelasan disini!\n"
   ]
  },
  {
   "cell_type": "markdown",
   "id": "fb9e10c9-1671-4e48-a6e9-67baad29269a",
   "metadata": {},
   "source": [
    "\n",
    "### **4.6 Percobaan & Latihan 10.6: Quick Sort**\n",
    "\n",
    "<img src=\"6.jpg\" width=\"650px\" alt=\"Deskripsi Gambar\" />\n",
    "\n",
    "---\n"
   ]
  },
  {
   "cell_type": "code",
   "execution_count": 1,
   "id": "d09125fb-6733-42e8-84db-0b8ab067daae",
   "metadata": {},
   "outputs": [],
   "source": [
    "# Ketikan kode dan penjelasan disini!\n"
   ]
  },
  {
   "cell_type": "markdown",
   "id": "2addb275-0449-4ec3-8028-47ce3180b1ec",
   "metadata": {},
   "source": [
    "\n",
    "## **4. Studi Literasi**  \n",
    "Bacalah referensi berikut terkait sorting:  \n",
    "- Cormen et al., *Introduction to Algorithms* (Bab Sorting)  \n",
    "- Dokumentasi Python: [Sorting HOW TO](https://docs.python.org/3/howto/sorting.html)  \n",
    "- GeeksforGeeks: [Sorting Algorithms](https://www.geeksforgeeks.org/sorting-algorithms/)  \n",
    "\n",
    "1. **Summary dan Analisa Percobaan & Latihan**\n",
    "    - Buat ringkasan dan analisis utama dari seluruh percobaan dan latihan pada praktikum ini.\n",
    "\n",
    "2. **Kesimpulan Praktikum**\n",
    "    - Tulis kesimpulan Anda setelah menyelesaikan praktikum sorting ini."
   ]
  },
  {
   "cell_type": "code",
   "execution_count": null,
   "id": "8212cb15-3282-40b5-bbb6-315085b4fa7e",
   "metadata": {},
   "outputs": [],
   "source": [
    "# Ketikan penjelasan disini!\n"
   ]
  },
  {
   "cell_type": "markdown",
   "id": "3fde2a88-07f8-463e-bac1-e3a87afdb3b2",
   "metadata": {},
   "source": [
    "---\n",
    "\n",
    "## **5. Format File Tugas**  \n",
    "- **Tugas dikumpulkan dalam format Jupyter Notebook (`.ipynb`).**  \n",
    "- Gunakan format Markdown untuk dokumentasi di dalam notebook.\n",
    "- Pastikan setiap bagian memiliki heading (`#` untuk judul, `##` untuk subjudul).  \n",
    "- **File tugas diberi nama: `P10_Nama_NIM.ipynb`**  \n",
    "- **🚨 <span style=\"color:darkred; font-weight:bold; font-size:18px;\">PLAGIAT AKAN DIBERI SANKSI TANPA AMPUN! 🚨</span>**  \n"
   ]
  }
 ],
 "metadata": {
  "kernelspec": {
   "display_name": "base",
   "language": "python",
   "name": "python3"
  },
  "language_info": {
   "codemirror_mode": {
    "name": "ipython",
    "version": 3
   },
   "file_extension": ".py",
   "mimetype": "text/x-python",
   "name": "python",
   "nbconvert_exporter": "python",
   "pygments_lexer": "ipython3",
   "version": "3.12.7"
  },
  "widgets": {
   "application/vnd.jupyter.widget-state+json": {
    "state": {},
    "version_major": 2,
    "version_minor": 0
   }
  }
 },
 "nbformat": 4,
 "nbformat_minor": 5
}
