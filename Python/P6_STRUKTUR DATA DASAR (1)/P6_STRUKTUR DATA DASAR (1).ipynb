{
 "cells": [
  {
   "cell_type": "markdown",
   "id": "f19e9420-fb52-496b-9360-72836109d9b5",
   "metadata": {},
   "source": [
    "# **LAPORAN PRAKTIKUM 6** \n",
    "## **ALGORITMA & STRUKTUR DATA – STRUKTUR DATA DASAR (1)** \n",
    "### **Program Studi Teknik Informatika – Universitas Muhammadiyah Kalimantan Timur** \n",
    "\n",
    "---\n"
   ]
  },
  {
   "cell_type": "markdown",
   "id": "3a120962-0d8c-4812-8790-d397b7b945d0",
   "metadata": {},
   "source": [
    "\n",
    "## Identitas Mahasiswa\n",
    "NAMA : ...\n",
    "\n",
    "NIM : ...\n",
    "\n",
    "KELAS : ...\n",
    "\n",
    "---\n"
   ]
  },
  {
   "cell_type": "markdown",
   "id": "b44fcfba-b950-4a24-a67e-5bf9c0f8901c",
   "metadata": {},
   "source": [
    "\n",
    "## **1. Pendahuluan** \n",
    "### **1.1 Latar Belakang** \n",
    "Dalam ilmu komputer, struktur data merupakan cara menyimpan dan mengorganisasi data agar dapat digunakan secara efisien. Stack (tumpukan) adalah salah satu struktur data linier yang paling mendasar dan penting. Stack mengikuti prinsip LIFO (Last-In First-Out), dimana elemen yang terakhir dimasukkan akan menjadi elemen pertama yang dikeluarkan. Struktur data Stack memiliki aplikasi penting dalam berbagai algoritma dan sistem, seperti evaluasi ekspresi aritmatika, pengolahan bahasa pemrograman, dan penanganan rekursi.\n",
    "\n",
    "### **1.2 Tujuan Praktikum** \n",
    "Mahasiswa diharapkan mampu: \n",
    "^ Memahami konsep dasar Stack sebagai struktur data.\n",
    "^ Mengimplementasikan Stack menggunakan bahasa pemrograman Python.\n",
    "^ Menerapkan operasi dasar Stack (push, pop, peek, isEmpty, size).\n",
    "^ Menggunakan Stack untuk menyelesaikan masalah praktis seperti memeriksa keseimbangan tanda kurung dan konversi notasi matematika.\n",
    "^ Memahami penulisan ekspresi aritmatika dalam bentuk Infix, Prefix, dan Postfix.\n",
    "\n",
    "💡 **Tips:** \n",
    "- Jangan hanya menjalankan kode, tetapi pahami setiap barisnya! \n",
    "- Pastikan laporan memiliki **analisis yang jelas** terhadap hasil percobaan. \n",
    "- Gunakan Markdown untuk menulis deskripsi di dalam Jupyter Notebook agar lebih rapi. \n",
    "\n",
    "---\n",
    "\n",
    "## **2. Materi Praktikum** \n",
    "### **2.1 Pengertian Stack** \n",
    "Stack (tumpukan) adalah struktur data linier yang mengikuti prinsip LIFO (Last-In First-Out). Ini berarti, elemen terakhir yang dimasukkan ke dalam Stack akan menjadi elemen pertama yang dikeluarkan. Stack dapat dianalogikan dengan tumpukan buku, di mana buku yang terakhir ditumpuk (berada di bagian atas) adalah yang pertama diambil.\n",
    "\n",
    "Beberapa operasi dasar pada Stack adalah:\n",
    "- **push**: Menambahkan elemen ke bagian atas Stack\n",
    "- **pop**: Menghapus elemen dari bagian atas Stack\n",
    "- **peek/top**: Melihat elemen teratas tanpa menghapusnya\n",
    "- **isEmpty**: Memeriksa apakah Stack kosong\n",
    "- **size**: Mengetahui jumlah elemen dalam Stack\n",
    "\n",
    "### **2.2 Implementasi Stack di Python** \n",
    "Python menyediakan beberapa cara untuk mengimplementasikan Stack:\n",
    "\n",
    "1. **Menggunakan List Python**\n",
    "   - Memanfaatkan list sebagai struktur dasar\n",
    "   - Metode `append()` untuk operasi push\n",
    "   - Metode `pop()` untuk operasi pop\n",
    "   - Elemen terakhir dalam list mewakili top Stack\n",
    "\n",
    "2. **Menggunakan Class**\n",
    "   - Mendefinisikan class Stack sendiri\n",
    "   - Mengenkapsulasi operasi Stack dalam metode class\n",
    "   - Memberikan kontrol lebih besar atas perilaku Stack\n",
    "\n",
    "3. **Menggunakan Collections.deque**\n",
    "   - Struktur data yang lebih efisien untuk operasi push dan pop\n",
    "   - Mendukung operasi di kedua ujung dengan efisien\n",
    "\n",
    "### **2.3 Aplikasi Stack** \n",
    "Stack memiliki banyak aplikasi praktis dalam ilmu komputer, antara lain:\n",
    "- Evaluasi ekspresi dan konversi notasi (infix, prefix, postfix)\n",
    "- Pelacakan pemanggilan fungsi (call stack)\n",
    "- Memeriksa keseimbangan tanda kurung dalam ekspresi\n",
    "- Implementasi algoritma undo/redo\n",
    "- Konversi sistem bilangan\n",
    "- Backtracking dalam algoritma pencarian\n",
    "\n",
    "---\n",
    "\n",
    "\n"
   ]
  },
  {
   "cell_type": "markdown",
   "id": "c76d8e43-a862-4aca-b0f5-2909b4b6e858",
   "metadata": {},
   "source": [
    "## **3. Tugas Pendahuluan** \n",
    "Sebelum memulai praktikum, jawab pertanyaan berikut: \n",
    "\n",
    "1. **Jelaskan perbedaan antara struktur data Stack, Queue, dan List!** \n",
    "\n",
    "2. **Sebutkan dan jelaskan minimal 3 aplikasi nyata dari struktur data Stack dalam kehidupan sehari-hari dan dalam ilmu komputer!** \n",
    "\n",
    "3. **Apa perbedaan antara notasi Infix, Prefix, dan Postfix dalam ekspresi matematika? Berikan contoh untuk ekspresi (A + B) * C dalam ketiga notasi tersebut!**\n",
    "\n",
    "---\n"
   ]
  },
  {
   "cell_type": "code",
   "execution_count": 2,
   "id": "ba8efdef-bec4-456a-8687-6ee82137865d",
   "metadata": {},
   "outputs": [],
   "source": [
    "# Jelaskan apa yang anda pahami dari penjelasan di atas\n"
   ]
  },
  {
   "cell_type": "markdown",
   "id": "748f86b9-93df-47e0-bd39-39f346d94a65",
   "metadata": {},
   "source": [
    "\n",
    "## **4. Percobaan & Latihan** \n",
    "**Instruksi:** \n",
    "- Buat program Python berdasarkan langkah-langkah di bawah ini. \n",
    "- Eksekusi setiap kode dan analisis hasilnya. \n",
    "- Tuliskan output yang dihasilkan. \n"
   ]
  },
  {
   "cell_type": "markdown",
   "id": "a2bbf7ac-ff63-4155-8dbd-640e4fdeb329",
   "metadata": {},
   "source": [
    "\n",
    "### **4.1 Latihan 1 – Implementasi Dasar Stack** \n",
    "<img src=\"1.jpg\" width=\"450px\" alt=\"Deskripsi Gambar\" />\n",
    "\n",
    "**Analisis:** \n",
    "- Bagaimana hasil dari setiap operasi Stack di atas?\n",
    "- Jelaskan proses perubahan isi Stack setelah setiap operasi!\n",
    "\n",
    "---\n"
   ]
  },
  {
   "cell_type": "code",
   "execution_count": 11,
   "id": "fde355f5-f7e5-4408-b87c-bfb4f2b91859",
   "metadata": {},
   "outputs": [
    {
     "name": "stdout",
     "output_type": "stream",
     "text": [
      "True\n",
      "dog\n",
      "3\n",
      "False\n",
      "8.4\n",
      "True\n",
      "2\n"
     ]
    }
   ],
   "source": [
    "# Ketikan kode dan penjelasan disini!\n",
    "\n",
    "class Stack():\n",
    "    def __init__(self):\n",
    "        self.items = []\n",
    "\n",
    "    def isEmpty(self):\n",
    "        return self.items == []\n",
    "    def push(self, item):\n",
    "        self.items.append(item)\n",
    "\n",
    "    def pop(self):\n",
    "        return self.items.pop()\n",
    "    \n",
    "    def peek(self):\n",
    "        return self.items[len(self.items)-1]\n",
    "    \n",
    "    def size(self):\n",
    "        return len(self.items)\n",
    "    \n",
    "s = Stack()\n",
    "print(s.isEmpty())\n",
    "s.push(4)\n",
    "s.push('dog')\n",
    "print(s.peek())\n",
    "s.push(True)\n",
    "print(s.size())\n",
    "print(s.isEmpty())\n",
    "s.push(8.4)\n",
    "print(s.pop())\n",
    "print(s.pop())\n",
    "print(s.size())\n"
   ]
  },
  {
   "cell_type": "markdown",
   "id": "bf4b16ed-3d15-43af-a2c9-9a9e3e673bab",
   "metadata": {},
   "source": [
    "### **4.2 Latihan 2 – Memeriksa Keseimbangan Tanda Kurung** \n",
    "Buatlah fungsi untuk memeriksa keseimbangan tanda kurung:\n",
    "\n",
    "<img src=\"2.jpg\" width=\"550px\" alt=\"Deskripsi Gambar\" />\n",
    "---"
   ]
  },
  {
   "cell_type": "code",
   "execution_count": 1,
   "id": "ecf2371d-3107-4374-905a-55697aa051e5",
   "metadata": {},
   "outputs": [],
   "source": [
    "# Ketikan kode dan penjelasan disini!\n"
   ]
  },
  {
   "cell_type": "markdown",
   "id": "ad7ec3a7-6fd2-4410-9f81-3140438b38c3",
   "metadata": {},
   "source": [
    "\n",
    "### **4.3 Latihan 3 – Memeriksa Keseimbangan Multi-Simbol** \n",
    "<img src=\"3.jpg\" width=\"550px\" alt=\"Deskripsi Gambar\" />\n",
    "\n",
    "\n",
    "**Analisis:** \n",
    "- Apa hasil output dari perintah di atas?\n",
    "- Jelaskan perbedaan fungsi ini dengan fungsi pada Latihan 2!\n",
    "- Bagaimana fungsi matches bekerja untuk mencocokkan pasangan tanda kurung?\n",
    "---\n",
    "\n"
   ]
  },
  {
   "cell_type": "code",
   "execution_count": null,
   "id": "38882d65-2106-485a-85be-bdde8249fafe",
   "metadata": {},
   "outputs": [],
   "source": []
  },
  {
   "cell_type": "markdown",
   "id": "2addb275-0449-4ec3-8028-47ce3180b1ec",
   "metadata": {},
   "source": [
    "\n",
    "### **4.4 Latihan 4 – Konversi Bilangan Desimal ke Biner** \n",
    "<img src=\"4.jpg\" width=\"550px\" alt=\"Deskripsi Gambar\" />\n",
    "\n"
   ]
  },
  {
   "cell_type": "code",
   "execution_count": null,
   "id": "81f80082-07de-47dd-a165-370472112047",
   "metadata": {},
   "outputs": [],
   "source": [
    "# Ketikan penjelasan disini!\n"
   ]
  },
  {
   "cell_type": "markdown",
   "id": "6d747898-b46f-4c5b-911a-ae9941c8f84d",
   "metadata": {},
   "source": [
    "### **4.5 Latihan 5 – Konversi ke Berbagai Basis Bilangan** \n",
    "<img src=\"5.jpg\" width=\"550px\" alt=\"Deskripsi Gambar\" />\n",
    "---\n"
   ]
  },
  {
   "cell_type": "code",
   "execution_count": null,
   "id": "8212cb15-3282-40b5-bbb6-315085b4fa7e",
   "metadata": {},
   "outputs": [],
   "source": [
    "# Ketikan penjelasan disini!\n"
   ]
  },
  {
   "attachments": {},
   "cell_type": "markdown",
   "id": "ff04b282-347f-4bb7-ac31-1e3352473b6c",
   "metadata": {},
   "source": [
    "\n",
    "### **4.6 Latihan 6 – Konversi Infix ke Postfix** \n",
    "<img src=\"5.jpg\" width=\"550px\" alt=\"Deskripsi Gambar\" />\n"
   ]
  },
  {
   "cell_type": "code",
   "execution_count": null,
   "id": "43515c61-5e9e-44c2-b1c1-175b8c12739a",
   "metadata": {},
   "outputs": [],
   "source": [
    "# Ketikan penjelasan disini!\n"
   ]
  },
  {
   "cell_type": "markdown",
   "id": "bf2328e1-bcfc-4af5-9b72-f1818dbda0b4",
   "metadata": {},
   "source": [
    "\n",
    "### **4.7 Latihan 7 – Evaluasi Ekspresi Postfix** \n",
    "<img src=\"7.jpg\" width=\"550px\" alt=\"Deskripsi Gambar\" />\n",
    "\n",
    "---\n"
   ]
  },
  {
   "cell_type": "code",
   "execution_count": null,
   "id": "031d0dd0-a926-4bd9-a8d7-c4a5fc3df3db",
   "metadata": {},
   "outputs": [],
   "source": [
    "# Ketikan penjelasan disini!\n"
   ]
  },
  {
   "cell_type": "markdown",
   "id": "3fde2a88-07f8-463e-bac1-e3a87afdb3b2",
   "metadata": {},
   "source": [
    "---\n",
    "\n",
    "\n",
    "## **5. Format File Tugas** \n",
    "- **Tugas dikumpulkan dalam format Jupyter Notebook (`.ipynb`).** \n",
    "- Gunakan format Markdown untuk dokumentasi di dalam notebook.\n",
    "- Pastikan setiap bagian memiliki heading (`#` untuk judul, `##` untuk subjudul). \n",
    "- **File tugas diberi nama: `P6_Nama_NIM.ipynb`** \n",
    "- **🚨 <span style=\"color:darkred; font-weight:bold; font-size:18px;\">PLAGIAT AKAN DIBERI SANKSI TANPA AMPUN! 🚨</span>**  \n"
   ]
  },
  {
   "cell_type": "code",
   "execution_count": null,
   "id": "acba8347-2d58-4212-a01f-4cb2ccb20bb8",
   "metadata": {},
   "outputs": [],
   "source": []
  }
 ],
 "metadata": {
  "kernelspec": {
   "display_name": "base",
   "language": "python",
   "name": "python3"
  },
  "language_info": {
   "codemirror_mode": {
    "name": "ipython",
    "version": 3
   },
   "file_extension": ".py",
   "mimetype": "text/x-python",
   "name": "python",
   "nbconvert_exporter": "python",
   "pygments_lexer": "ipython3",
   "version": "3.12.7"
  },
  "widgets": {
   "application/vnd.jupyter.widget-state+json": {
    "state": {},
    "version_major": 2,
    "version_minor": 0
   }
  }
 },
 "nbformat": 4,
 "nbformat_minor": 5
}
