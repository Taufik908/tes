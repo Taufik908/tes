{
  "cells": [
    {
      "cell_type": "markdown",
      "metadata": {},
      "source": [
        "# UJIAN AKHIR SEMESTER (UAS) (TIPE SOAL: A3)\n",
        "# ALGORITMA STRUKTUR DATA\n",
        "## Program Studi Informatika (UMKT)\n",
        "### Semester Genap 2024-2025"
      ]
    },
    {
      "cell_type": "markdown",
      "metadata": {},
      "source": [
        "---\n",
        "<strong><em> Visi Prodi TI UMKT:\n",
        "\n",
        "\"Pada tahun 2037, menjadi program studi yang unggul dalam teknologi informasi dan algoritma komputasi untuk penyelesaian permasalahan sosial dan lingkungan dengan berlandaskan nilai-nilai keislaman\"\n",
        " </em></strong>\n",
        "\n",
        "---"
      ]
    },
    {
      "cell_type": "markdown",
      "metadata": {},
      "source": [
        "---\n",
        "<strong><em> Capaian Pembelajaran Mata Kuliah:\n",
        "\n",
        "1.\tMahasiswa mampu memahami dasar-dasar algoritma dan struktur data serta menerapkan dasar pemrograman Python dalam merancang solusi masalah yang efektif dan efisien.\n",
        "2.\tMahasiswa mampu mengembangkan solusi kompleks dengan menerapkan algoritma searching, sorting, algoritma berbasis pohon dan pemodelan grafik untuk representasi serta analisis hubungan data..\n",
        "\n",
        "</em></strong>\n",
        "\n",
        "---"
      ]
    },
    {
      "cell_type": "markdown",
      "metadata": {},
      "source": [
        "## Instruksi Ujian\n",
        "<blockquote>\n",
        "Durasi Ujian: 90 menit\n",
        "\n",
        "Aturan:\n",
        "- Setiap mahasiswa mendapatkan jenis soal yang berbeda sesuai dengan nim\n",
        "- Sifat ujian semi-tertutup, tidak boleh membuka apapun selain soal ini tetapi mahasiswa boleh membuka catatan\n",
        "- Baca dengan teliti instruksi soal sebelum mengerjakan\n",
        "- Isi jawaban di tempat yang telah disediakan\n",
        "- Mahasiswa hanya boleh membawa laptop (boleh memakai komputer lab) dan pulpen (untuk absensi)\n",
        "- Dilarang menggunakan peralatan komunikasi (HP/smartphone)\n",
        "- Mahasiswa masuk kedalam ruangan 10 menit untuk persiapan ujian (komputer/laptop dan download soal)\n",
        "- Mahasiswa yang terlambat tidak akan mendapatkan waktu tambahan\n",
        "- Bagi mahasiswa yang tidak dapat mengikuti ujian, dapat menghadap langsung ke dosen pengampu untuk pengganti ujian dan membawa surat permohonan ujian susulan yang di tanda tangani dosen PA\n",
        "- Bagi mahasiswa yang berbuat kecurangan/kerja sama akan diberikan nilai akhir E. \n",
        "- Mahassiwa dilarang menggunakan AI dan sejenisnya.\n",
        "</blockquote>\n",
        "\n",
        "---\n",
        "\n"
      ]
    },
    {
      "cell_type": "markdown",
      "metadata": {},
      "source": [
        "## Identitas Peserta"
      ]
    },
    {
      "cell_type": "markdown",
      "metadata": {},
      "source": [
        "NAMA    : Taufiq Kurrahman\n",
        "\n",
        "NIM     : 2411102441168\n",
        "\n",
        "KELAS   : A"
      ]
    },
    {
      "cell_type": "markdown",
      "metadata": {},
      "source": [
        "---"
      ]
    },
    {
      "cell_type": "markdown",
      "metadata": {},
      "source": [
        "## Soal 1 (30 Point Praktikum & teori) 15 menit"
      ]
    },
    {
      "cell_type": "markdown",
      "metadata": {},
      "source": [
        "<blockquote>\n",
        "1(A) Soal Praktikum: Struktur Data  </br>\n",
        "\n",
        "Anda adalah staf IT di sebuah perpustakaan digital modern. Perpustakaan ini memiliki sistem otomatis untuk menangani pengembalian buku oleh pengunjung.  \n",
        "Setiap buku yang dikembalikan akan ditumpuk sementara di meja petugas sebelum disusun kembali ke rak aslinya. Sistem ini menggunakan prinsip LIFO (Last In First Out),  \n",
        "di mana buku yang terakhir dikembalikan akan menjadi yang pertama diambil untuk diproses.  \n",
        "Berikut adalah ketentuan tugasnya:  \n",
        "\n",
        "- Setiap buku yang dikembalikan memiliki kode buku (menggunakan NIM anda)\n",
        "- Setiap dua digit angka NIM dianggap sebagai satu elemen data (jika 0 tambahkan angka 1 didepannya).\n",
        "- pastikan data yang anda masukan bertipe interger\n",
        "- Masukkan setiap elemen ke dalam struktur data anda satu per satu (dari kiri ke kanan).\n",
        "- Setelah semua buku dimasukkan, tampilkan urutan buku dari paling bawah hingga paling atas dalam tumpukan.\n",
        "\n",
        "</blockquote>"
      ]
    },
    {
      "cell_type": "code",
      "execution_count": null,
      "metadata": {},
      "outputs": [
        {
          "name": "stdout",
          "output_type": "stream",
          "text": [
            "24\n",
            "11\n",
            "10\n",
            "12\n",
            "44\n",
            "11\n",
            "68\n"
          ]
        }
      ],
      "source": [
        "# Jawaban coding 1A\n",
        "\n",
        "nim = \"24111012441168\"\n",
        "\n",
        "class Stack():\n",
        "    def __init__(self):\n",
        "        self.items = []\n",
        "    \n",
        "    def isEmpty(self):\n",
        "        return self.items == []\n",
        "    \n",
        "    def push(self, item):\n",
        "        self.items.append(item)\n",
        "\n",
        "    def pop(self):\n",
        "        return self.items.pop()\n",
        "    \n",
        "    def peek(self):\n",
        "        return self.items[len(self.items)-1]\n",
        "    \n",
        "    def size(self):\n",
        "        return len(self.items)\n",
        "    \n",
        "s = Stack()\n",
        "\n",
        "for i in range(0, len(nim), 2):\n",
        "    element = nim[i:i+2]\n",
        "    s.push(int(element))\n",
        "\n",
        "for i in s.items:\n",
        "    print(i)\n",
        "            "
      ]
    },
    {
      "cell_type": "markdown",
      "metadata": {},
      "source": [
        "<blockquote>\n",
        "(1B) Jelaskan coding 1A yang telah anda buat beserta beserta penjelasan LIFO (30 poin Teori)\n",
        "</blockquote>"
      ]
    },
    {
      "cell_type": "markdown",
      "metadata": {},
      "source": [
        "Jawaban 1B: ...\n",
        "\n",
        "- Pertama buat data NIM yang akan digunakan sebagai kode buku\n",
        "- Buat class Stack, karena struktur data ini menggunakan sistem LIFO(Last In First Out). Yaitu elemen yang terakhir kali masuk akan pertama kali keluar, contohnya seperti tumpukkan piring (piring yang terakhir kali ditumpuk akan pertama kali keluar/diambil). Pada kasus ini menggunakan buku\n",
        "- Buat objek Stack\n",
        "- Melakukan perulangan untuk memasukkan buku ke dalam Stack\n",
        "- Melakukan perulangan untuk menampilkan urutan buku dari paling bawah hingga paling atas tumpukkan\n"
      ]
    },
    {
      "cell_type": "markdown",
      "metadata": {},
      "source": [
        "---"
      ]
    },
    {
      "cell_type": "markdown",
      "metadata": {},
      "source": [
        "## Soal 2 (35 Point Praktikum & Teori) 20 menit"
      ]
    },
    {
      "cell_type": "markdown",
      "metadata": {},
      "source": [
        "<blockquote>\n",
        "2(A) Soal Praktikum: Algoritma sederhana</br>\n",
        "\n",
        "Setelah semua buku ditumpuk dan akan diproses, petugas ingin mengurutkan kode buku berdasarkan urutan ID angka agar lebih mudah dicocokkan dengan data katalog.:</br>\n",
        "- Anda menggunakana data ID barang hasil progrman soal NO 1A Lakukan sorting terhadap list kode buku tersebut menggunakan algoritma sorting pilihan Anda \n",
        "- Anda bebas memilih algoritma sorting yang digunakan.\n",
        "- Tampilkan hasil pengurutan kode buku secara descanding\n",
        "</blockquote>"
      ]
    },
    {
      "cell_type": "code",
      "execution_count": 68,
      "metadata": {},
      "outputs": [
        {
          "data": {
            "text/plain": [
              "[68, 44, 24, 12, 11, 11, 10]"
            ]
          },
          "execution_count": 68,
          "metadata": {},
          "output_type": "execute_result"
        }
      ],
      "source": [
        "# Jawaban coding 2A\n",
        "\n",
        "data_stack = s.items.copy() \n",
        "\n",
        "def bubbleSort(alist):\n",
        "    for passnum in range(len(alist)-1,0,-1):\n",
        "        for i in range(passnum):\n",
        "            if alist[i]<alist[i+1]:\n",
        "                temp = alist[i]\n",
        "                alist[i]=alist[i+1]\n",
        "                alist[i+1] = temp\n",
        "    return alist\n",
        "\n",
        "bubbleSort(data_stack)"
      ]
    },
    {
      "cell_type": "markdown",
      "metadata": {},
      "source": [
        "<blockquote>\n",
        "(2B) Jelaskan algoritma sort apa yang anda gunakan beserta alasannya, serta analisa kelebihan dan kekurangannya! (35 poin Teori)\n",
        "</blockquote>"
      ]
    },
    {
      "cell_type": "markdown",
      "metadata": {},
      "source": [
        "Jawaban 2B: ...\n",
        "Disini menggunakan algoritma bubble sorting karena algoritma ini mudah dipahami cara kerjanya"
      ]
    },
    {
      "cell_type": "markdown",
      "metadata": {},
      "source": [
        "---"
      ]
    },
    {
      "cell_type": "markdown",
      "metadata": {},
      "source": [
        "## Soal 3 (35 Point Praktikum & Teori) 25 menit"
      ]
    },
    {
      "cell_type": "markdown",
      "metadata": {},
      "source": [
        "<blockquote>\n",
        "3(A) Soal Praktikum: Algoritma Searching</br>\n",
        "\n",
        "Setelah Anda berhasil mengembangkan sistem pengurutan ID buku pada tahap sebelumnya, kepala perpustakaan menyadari bahwa pengunjung masih kesulitan dalam menemukan buku yang mereka cari. Untuk mengatasi hal ini, Anda diminta untuk membangun fitur pencarian buku berdasarkan ID-nya.\n",
        "Fitur ini akan bekerja dengan mencari ID buku yang telah tersusun secara terurut dari hasil program sebelumnya. Sistem pencarian ini diharapkan dapat membantu pengunjung menemukan buku secara cepat dan efisien berdasarkan ID yang mereka inputkan\n",
        "\n",
        "- Data yang digunakan merupakan data hasil algoritma sorting di nomor 2.\n",
        "- algoritma searching yang digunakan bebas.\n",
        "- program akan menampilkan \"buku tersedia\" jika ID terdaftar dan \"buku tidak tersedia\" bila ID tidak terdaftar\n",
        "\n",
        "</blockquote>"
      ]
    },
    {
      "cell_type": "code",
      "execution_count": 89,
      "metadata": {},
      "outputs": [
        {
          "name": "stdout",
          "output_type": "stream",
          "text": [
            "Buku tidak tersedia pada urutan ke- {1}\n",
            "Buku tidak tersedia pada urutan ke- {2}\n",
            "Buku tersedia pada urutan ke- {3}\n"
          ]
        },
        {
          "data": {
            "text/plain": [
              "3"
            ]
          },
          "execution_count": 89,
          "metadata": {},
          "output_type": "execute_result"
        }
      ],
      "source": [
        "# Jawaban coding 3A\n",
        "\n",
        "def linear_search(arr, target):\n",
        "    for i in range(len(arr)):\n",
        "        if arr[i] == target:\n",
        "            print(\"Buku tersedia pada urutan ke-\",{i+1})\n",
        "            return i+1\n",
        "        elif arr[i] != target:\n",
        "            print(\"Buku tidak tersedia pada urutan ke-\",{i+1})\n",
        "    return -1\n",
        "\n",
        "linear_search(data_stack,24)"
      ]
    },
    {
      "cell_type": "markdown",
      "metadata": {},
      "source": [
        "<blockquote>\n",
        "(3B) Jelaskan alur algoritma searching yang anda gunakan beserta kelebihannhya (35 poin Teori)\n",
        "</blockquote>"
      ]
    },
    {
      "cell_type": "markdown",
      "metadata": {},
      "source": [
        "Jawaban 3B: ...\n",
        "\n",
        "- Pertama membuat class linear search yang memiliki parameter array dan target\n",
        "- Melakukan perulangan untuk elemen\n",
        "\n",
        "\n",
        "Kelebihannya algoritma ini akan mencari elemen secara berurutan/linier"
      ]
    },
    {
      "cell_type": "markdown",
      "metadata": {},
      "source": [
        "---"
      ]
    },
    {
      "cell_type": "markdown",
      "metadata": {},
      "source": [
        "## Soal Bonus (maksimal 15 Poin nilai tambahan jika anda mendapatkan nilai <= 50)"
      ]
    },
    {
      "cell_type": "markdown",
      "metadata": {},
      "source": [
        "<blockquote>\n",
        "(Bonus) Jelaskan secara deskriptif dan komprehensif pemahaman anda Mengenai Algoritma!\n",
        "</blockquote>"
      ]
    },
    {
      "cell_type": "markdown",
      "metadata": {},
      "source": [
        "Jawaban Bonus: ...\n",
        "Algoritma adalah serangkaian perintah "
      ]
    },
    {
      "cell_type": "markdown",
      "metadata": {},
      "source": [
        "---"
      ]
    },
    {
      "cell_type": "markdown",
      "metadata": {},
      "source": [
        "## Instruksi Pengumpulan\n",
        "\n",
        "<blockquote>\n",
        "Kumpulkan file ini dengan format berikut:\n",
        "\n",
        "<span style=\"font-family:Comic Sans MS\">\"SOAL_X_NIM.ipynb\"</span> \n",
        "\n",
        "\n",
        "<em> Ganti X dengan tipe soal yang anda dapat sesuai dengan nim! </em>\n",
        "\n",
        "Silahkan kumpulkan di tempat yang telah disediakan.\n",
        "</blockquote>\n",
        "\n",
        "---"
      ]
    }
  ],
  "metadata": {
    "kernelspec": {
      "display_name": "base",
      "language": "python",
      "name": "python3"
    },
    "language_info": {
      "codemirror_mode": {
        "name": "ipython",
        "version": 3
      },
      "file_extension": ".py",
      "mimetype": "text/x-python",
      "name": "python",
      "nbconvert_exporter": "python",
      "pygments_lexer": "ipython3",
      "version": "3.12.7"
    }
  },
  "nbformat": 4,
  "nbformat_minor": 4
}
