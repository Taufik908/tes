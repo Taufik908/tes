{
 "cells": [
  {
   "cell_type": "code",
   "execution_count": 1,
   "id": "4205aa95",
   "metadata": {},
   "outputs": [
    {
     "name": "stdout",
     "output_type": "stream",
     "text": [
      "Nilai maksimum adalah: 89\n"
     ]
    }
   ],
   "source": [
    "def cari_maksimum(a):\n",
    "    # Inisialisasi nilai maksimum dengan elemen pertama\n",
    "    maks = a[0]\n",
    "    k = 1  # karena indeks Python mulai dari 0\n",
    "\n",
    "    while k < len(a):\n",
    "        if a[k] > maks:\n",
    "            maks = a[k]\n",
    "        k += 1\n",
    "\n",
    "    return maks\n",
    "\n",
    "# Contoh penggunaan\n",
    "data = [12, 45, 7, 89, 23, 56]\n",
    "hasil = cari_maksimum(data)\n",
    "print(\"Nilai maksimum adalah:\", hasil)\n"
   ]
  },
  {
   "cell_type": "code",
   "execution_count": 3,
   "id": "ee175a12",
   "metadata": {},
   "outputs": [
    {
     "name": "stdout",
     "output_type": "stream",
     "text": [
      "Nilai maksimum adalah: 17\n"
     ]
    }
   ],
   "source": [
    "def cari_maksimum_3(a):\n",
    "    if len(a) != 3:\n",
    "        raise ValueError(\"Array harus berisi tepat 3 elemen.\")\n",
    "\n",
    "    maks = a[0]\n",
    "    for k in range(1, 3):  # hanya 3 kali perulangan\n",
    "        if a[k] > maks:\n",
    "            maks = a[k]\n",
    "    return maks\n",
    "\n",
    "# Contoh penggunaan\n",
    "data = [11, 15, 17]\n",
    "hasil = cari_maksimum_3(data)\n",
    "print(\"Nilai maksimum adalah:\", hasil)\n"
   ]
  },
  {
   "cell_type": "code",
   "execution_count": 3,
   "id": "07723409",
   "metadata": {},
   "outputs": [
    {
     "name": "stdout",
     "output_type": "stream",
     "text": [
      "Rata-rata waktu perjalanan: 31.2 menit\n"
     ]
    }
   ],
   "source": [
    "def hitung_rata_rata_waktu(waktu_list):\n",
    "    total = 0\n",
    "    for waktu in waktu_list:\n",
    "        total += waktu\n",
    "    rata_rata = total / len(waktu_list)\n",
    "    return rata_rata\n",
    "\n",
    "# Contoh penggunaan\n",
    "waktu_perjalanan = [30, 28, 35, 32, 31]  # menit per hari\n",
    "print(\"Rata-rata waktu perjalanan:\", hitung_rata_rata_waktu(waktu_perjalanan), \"menit\")\n"
   ]
  },
  {
   "cell_type": "code",
   "execution_count": null,
   "id": "67fc0792",
   "metadata": {},
   "outputs": [],
   "source": [
    "ALGORITMA HitungRataRataWaktu(waktu_list):\n",
    "    total ← 0\n",
    "    UNTUK setiap waktu dalam waktu_list:\n",
    "        total ← total + waktu\n",
    "    rata_rata ← total / jumlah_elemen(waktu_list)\n",
    "    KEMBALIKAN rata_rata\n",
    "\n"
   ]
  },
  {
   "cell_type": "code",
   "execution_count": null,
   "id": "73ad9648",
   "metadata": {},
   "outputs": [],
   "source": [
    "def linear_search(array, target):\n",
    "    for i in range(len(array)):\n",
    "        if array[i] == target:\n",
    "            return i\n",
    "    return -1\n",
    "\n"
   ]
  }
 ],
 "metadata": {
  "kernelspec": {
   "display_name": "base",
   "language": "python",
   "name": "python3"
  },
  "language_info": {
   "codemirror_mode": {
    "name": "ipython",
    "version": 3
   },
   "file_extension": ".py",
   "mimetype": "text/x-python",
   "name": "python",
   "nbconvert_exporter": "python",
   "pygments_lexer": "ipython3",
   "version": "3.12.7"
  }
 },
 "nbformat": 4,
 "nbformat_minor": 5
}
