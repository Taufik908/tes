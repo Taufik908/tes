{
 "cells": [
  {
   "cell_type": "markdown",
   "id": "f19e9420-fb52-496b-9360-72836109d9b5",
   "metadata": {},
   "source": [
    "# **LAPORAN PRAKTIKUM 11**  \n",
    "## **ALGORITMA & STRUKTUR DATA – ALGORITMA POHON (TREE ALGORITHM)**  \n",
    "### **Program Studi Teknik Informatika – Universitas Muhammadiyah Kalimantan Timur**\n",
    "\n",
    "---\n"
   ]
  },
  {
   "cell_type": "markdown",
   "id": "3a120962-0d8c-4812-8790-d397b7b945d0",
   "metadata": {},
   "source": [
    "## Identitas Mahasiswa\n",
    "NAMA    : ...\n",
    "\n",
    "NIM     : ...\n",
    "\n",
    "KELAS   : ...\n",
    "\n",
    "---"
   ]
  },
  {
   "cell_type": "markdown",
   "id": "b44fcfba-b950-4a24-a67e-5bf9c0f8901c",
   "metadata": {},
   "source": [
    "\n",
    "## **1. Pendahuluan**  \n",
    "### **1.1 Latar Belakang**  \n",
    "Pohon (*Tree*) adalah salah satu struktur data non-linear terpenting dalam ilmu komputer. Struktur pohon digunakan dalam berbagai aplikasi, seperti penyimpanan hirarki, ekspresi aritmatika, optimalisasi pencarian, dan parsing. Pohon membantu mengelola data dengan relasi satu-ke-banyak dan meningkatkan efisiensi operasi seperti pencarian, penyisipan, dan penghapusan.\n",
    "\n",
    "### **1.2 Tujuan Praktikum**  \n",
    "- Memahami konsep dan operasi dasar struktur data pohon.  \n",
    "- Mengimplementasikan algoritma pohon di Python.  \n",
    "- Menganalisis kelebihan dan kekurangan penggunaan pohon dalam berbagai kasus.\n",
    "\n",
    "---\n",
    "\n",
    "## **2. Materi Praktikum**\n",
    "\n",
    "### **2.1 Konsep Dasar Pohon**  \n",
    "- Pohon adalah struktur data berbasis node dengan satu node akar (root) dan node turunan (child).\n",
    "- Setiap node dapat memiliki nol atau lebih anak, dan hubungan tidak bersiklus.\n",
    "- Jenis pohon umum: **Binary Tree**, **Binary Search Tree**, **AVL Tree**, **Heap**, dsb.\n",
    "\n",
    "### **2.2 Operasi Dasar pada Pohon**  \n",
    "- Penambahan node  \n",
    "- Penghapusan node  \n",
    "- Traversal: Preorder, Inorder, Postorder, Level Order\n",
    "\n",
    "---\n"
   ]
  },
  {
   "cell_type": "markdown",
   "id": "748f86b9-93df-47e0-bd39-39f346d94a65",
   "metadata": {},
   "source": [
    "\n",
    "## **3. Tugas Pendahuluan**  \n",
    "\n",
    "1. Jelaskan pengertian pohon dan node dalam struktur data!\n",
    "2. Sebutkan dan jelaskan minimal 3 jenis traversal pada pohon!\n",
    "3. Apa keuntungan menggunakan struktur data pohon dibandingkan dengan linked list?\n",
    "\n",
    "---\n"
   ]
  },
  {
   "cell_type": "code",
   "execution_count": null,
   "id": "ba8efdef-bec4-456a-8687-6ee82137865d",
   "metadata": {},
   "outputs": [],
   "source": [
    "# Jelaskan apa yang anda pahami dari penjelasan di atas\n"
   ]
  },
  {
   "cell_type": "markdown",
   "id": "a2bbf7ac-ff63-4155-8dbd-640e4fdeb329",
   "metadata": {},
   "source": [
    "\n",
    "## **4. Percobaan & Latihan**\n",
    "\n",
    "---\n",
    "\n",
    "### **4.1 Percobaan & Latihan 11.1: Definisi dan Traversal Pohon**\n",
    "<img src=\"1.jpg\" width=\"350px\" alt=\"Deskripsi Gambar\" />\n",
    "\n",
    "---\n"
   ]
  },
  {
   "cell_type": "code",
   "execution_count": 1,
   "id": "fde355f5-f7e5-4408-b87c-bfb4f2b91859",
   "metadata": {},
   "outputs": [
    {
     "name": "stdout",
     "output_type": "stream",
     "text": [
      "False\n"
     ]
    }
   ],
   "source": [
    "# Ketikan kode dan penjelasan disini!"
   ]
  },
  {
   "cell_type": "markdown",
   "id": "bf4b16ed-3d15-43af-a2c9-9a9e3e673bab",
   "metadata": {},
   "source": [
    "\n",
    "### **4.2 Percobaan & Latihan 11.2: Traversal Preorder, Inorder, Postorder**\n",
    "<img src=\"2.jpg\" width=\"550px\" alt=\"Deskripsi Gambar\" />\n",
    "---\n"
   ]
  },
  {
   "cell_type": "code",
   "execution_count": 1,
   "id": "ecf2371d-3107-4374-905a-55697aa051e5",
   "metadata": {},
   "outputs": [],
   "source": [
    "# Ketikan kode dan penjelasan disini!\n"
   ]
  },
  {
   "cell_type": "markdown",
   "id": "38c11bd3-66cb-4324-96d4-f723850ee709",
   "metadata": {},
   "source": [
    "\n",
    "### **4.3 Percobaan & Latihan 11.3: Binary Search Tree (BST) – Penyisipan dan Pencarian**\n",
    "<img src=\"3.jpg\" width=\"650px\" alt=\"Deskripsi Gambar\" />\n",
    "\n",
    "---\n"
   ]
  },
  {
   "cell_type": "code",
   "execution_count": 1,
   "id": "d927469a-7051-4bd5-bd4a-cc2d89fd96ef",
   "metadata": {},
   "outputs": [],
   "source": [
    "# Ketikan kode dan penjelasan disini!\n"
   ]
  },
  {
   "cell_type": "markdown",
   "id": "9cd3c08c-337f-4e33-8ad9-a3dc939d6400",
   "metadata": {},
   "source": [
    "\n",
    "### **4.4 Percobaan & Latihan 11.4: Traversal Level Order (Breadth-First Traversal)**\n",
    "<img src=\"4.jpg\" width=\"650px\" alt=\"Deskripsi Gambar\" />\n",
    "---\n"
   ]
  },
  {
   "cell_type": "code",
   "execution_count": 1,
   "id": "ca978c76-d1bd-4aec-a9b5-2914ca6e23e0",
   "metadata": {},
   "outputs": [],
   "source": [
    "# Ketikan kode dan penjelasan disini!\n"
   ]
  },
  {
   "cell_type": "markdown",
   "id": "448f6ad4-dfa7-44f2-9d31-ec9febb063a8",
   "metadata": {},
   "source": [
    "\n",
    "### **4.5 Percobaan & Latihan 11.5: Menghitung Tinggi (Height) Pohon**\n",
    "<img src=\"5.jpg\" width=\"450px\" alt=\"Deskripsi Gambar\" />\n",
    "---\n"
   ]
  },
  {
   "cell_type": "code",
   "execution_count": 1,
   "id": "477ee82a-376f-4ffa-abc4-46a269d96232",
   "metadata": {},
   "outputs": [],
   "source": [
    "# Ketikan kode dan penjelasan disini!\n"
   ]
  },
  {
   "cell_type": "markdown",
   "id": "2addb275-0449-4ec3-8028-47ce3180b1ec",
   "metadata": {},
   "source": [
    "### **4.4 Studi Literasi**  \n",
    "Bacalah referensi terkait pohon:\n",
    "- Cormen et al., *Introduction to Algorithms* (Bab Trees)\n",
    "- GeeksforGeeks: [Tree Data Structure](https://www.geeksforgeeks.org/tree-data-structure/)\n",
    "- Dokumentasi Python: “Binary Tree Traversal With Example”\n",
    "\n",
    "1. **Summary dan Analisa Percobaan latihan**\n",
    "    > Tuliskan rangkuman pengetahuan dan temuan Anda terkait operasi pohon, traversal, serta aplikasi praktisnya!\n",
    "2. **Kesimpulan Praktikum**  \n",
    "   > Tulis kesimpulan Anda setelah menyelesaikan praktikum algoritma pohon.\n"
   ]
  },
  {
   "cell_type": "code",
   "execution_count": null,
   "id": "8212cb15-3282-40b5-bbb6-315085b4fa7e",
   "metadata": {},
   "outputs": [],
   "source": [
    "# Ketikan penjelasan disini!\n"
   ]
  },
  {
   "cell_type": "markdown",
   "id": "3fde2a88-07f8-463e-bac1-e3a87afdb3b2",
   "metadata": {},
   "source": [
    "---\n",
    "\n",
    "## **5. Format File Tugas**  \n",
    "- **Tugas dikumpulkan dalam format Jupyter Notebook (`.ipynb`).**  \n",
    "- Gunakan format Markdown untuk dokumentasi di dalam notebook.\n",
    "- Pastikan setiap bagian memiliki heading (`#` untuk judul, `##` untuk subjudul).  \n",
    "- **File tugas diberi nama: `P11_Nama_NIM.ipynb`**  \n",
    "- **🚨 <span style=\"color:darkred; font-weight:bold; font-size:18px;\">PLAGIAT AKAN DIBERI SANKSI TANPA AMPUN! 🚨</span>**  \n"
   ]
  }
 ],
 "metadata": {
  "kernelspec": {
   "display_name": "Python 3 (ipykernel)",
   "language": "python",
   "name": "python3"
  },
  "language_info": {
   "codemirror_mode": {
    "name": "ipython",
    "version": 3
   },
   "file_extension": ".py",
   "mimetype": "text/x-python",
   "name": "python",
   "nbconvert_exporter": "python",
   "pygments_lexer": "ipython3",
   "version": "3.12.2"
  },
  "widgets": {
   "application/vnd.jupyter.widget-state+json": {
    "state": {},
    "version_major": 2,
    "version_minor": 0
   }
  }
 },
 "nbformat": 4,
 "nbformat_minor": 5
}
