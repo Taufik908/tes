{
 "cells": [
  {
   "cell_type": "code",
   "execution_count": 6,
   "id": "0cceca68",
   "metadata": {},
   "outputs": [
    {
     "name": "stdout",
     "output_type": "stream",
     "text": [
      "2\n"
     ]
    }
   ],
   "source": [
    "# variabel\n",
    "a = 1\n",
    "b = 2 \n",
    "\n",
    "# cetak\n",
    "print(b)"
   ]
  },
  {
   "cell_type": "code",
   "execution_count": 1,
   "id": "38f2bd41",
   "metadata": {},
   "outputs": [
    {
     "name": "stdout",
     "output_type": "stream",
     "text": [
      "2\n"
     ]
    }
   ],
   "source": [
    "print(1+1)"
   ]
  },
  {
   "cell_type": "code",
   "execution_count": 4,
   "id": "3354485f",
   "metadata": {},
   "outputs": [
    {
     "name": "stdout",
     "output_type": "stream",
     "text": [
      "Hello world\n",
      "Nama saya Taufiq\n"
     ]
    }
   ],
   "source": [
    "print(\"Hello world\") ; print(\"Nama saya Taufiq\")"
   ]
  },
  {
   "cell_type": "code",
   "execution_count": 14,
   "id": "544e75aa",
   "metadata": {},
   "outputs": [
    {
     "name": "stdout",
     "output_type": "stream",
     "text": [
      "5 lebih besar daripada 2\n",
      "ini bukan bagian if\n"
     ]
    }
   ],
   "source": [
    "# variabel\n",
    "a = 5\n",
    "b = 2\n",
    "\n",
    "# kondisi\n",
    "if (a > b):\n",
    "    # ini bagian if\n",
    "    print(f\"{a} lebih besar daripada {b}\")\n",
    "else: \n",
    "    print(f\"{a} tidak lebih besar daripada {b}\")\n",
    "\n",
    "print(\"ini bukan bagian if\")"
   ]
  },
  {
   "cell_type": "code",
   "execution_count": 16,
   "id": "b3c7d520",
   "metadata": {},
   "outputs": [
    {
     "name": "stdout",
     "output_type": "stream",
     "text": [
      "10\n",
      "ini adalah string\n"
     ]
    }
   ],
   "source": [
    "x = 10 # int\n",
    "y = \"ini adalah string\" # str\n",
    "\n",
    "print(x) # menampilkan isi variabel x\n",
    "print(y) # menampilkan isi variabel y"
   ]
  },
  {
   "cell_type": "code",
   "execution_count": 2,
   "id": "783813b3",
   "metadata": {},
   "outputs": [
    {
     "name": "stdout",
     "output_type": "stream",
     "text": [
      "Python is awesome and fantastic\n",
      "Python is awesome and oke\n"
     ]
    }
   ],
   "source": [
    "x = \"awesome \"\n",
    "def myFunc():\n",
    "    y = \" fantastic\"\n",
    "    print(\"Python is \" + x + \"and\" + y)\n",
    "\n",
    "def myFunc_2():\n",
    "    y = \" oke\"\n",
    "    print(\"Python is \" + x + \"and\" + y)\n",
    "\n",
    "myFunc()\n",
    "myFunc_2()\n"
   ]
  },
  {
   "cell_type": "code",
   "execution_count": 7,
   "id": "51b1a946",
   "metadata": {},
   "outputs": [
    {
     "name": "stdout",
     "output_type": "stream",
     "text": [
      "Python is awesome_ and fantastic\n",
      "Python is awesome_ and oke\n"
     ]
    }
   ],
   "source": [
    "x = \"awesome \"\n",
    "def myFunc():\n",
    "    global x\n",
    "    x = \"awesome_ \" # nilai x berubah\n",
    "    y = \" fantastic\"\n",
    "    print(\"Python is \" + x + \"and\" + y)\n",
    "\n",
    "def myFunc_2():\n",
    "    y = \" oke\"\n",
    "    print(\"Python is \" + x + \"and\" + y)\n",
    "\n",
    "myFunc()\n",
    "myFunc_2()\n"
   ]
  }
 ],
 "metadata": {
  "kernelspec": {
   "display_name": "base",
   "language": "python",
   "name": "python3"
  },
  "language_info": {
   "codemirror_mode": {
    "name": "ipython",
    "version": 3
   },
   "file_extension": ".py",
   "mimetype": "text/x-python",
   "name": "python",
   "nbconvert_exporter": "python",
   "pygments_lexer": "ipython3",
   "version": "3.12.7"
  }
 },
 "nbformat": 4,
 "nbformat_minor": 5
}
