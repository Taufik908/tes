{
 "cells": [
  {
   "cell_type": "code",
   "execution_count": null,
   "id": "0c4005d2",
   "metadata": {},
   "outputs": [
    {
     "name": "stdout",
     "output_type": "stream",
     "text": [
      "5 --> <class 'int'>\n",
      "5.6 --> <class 'float'>\n",
      "(-0-7j) --> <class 'complex'>\n"
     ]
    }
   ],
   "source": [
    "# 2.1\n",
    "\n",
    "x = 5\n",
    "y = 5.6\n",
    "z = -7j\n",
    "print(x,\"-->\", type(x))\n",
    "print(y,\"-->\", type(y))\n",
    "print(z,\"-->\", type(z))"
   ]
  },
  {
   "cell_type": "code",
   "execution_count": 2,
   "id": "71d25fc6",
   "metadata": {},
   "outputs": [
    {
     "name": "stdout",
     "output_type": "stream",
     "text": [
      "5 --> <class 'int'>\n",
      "5.6 --> <class 'float'>\n",
      "(3-7j) --> <class 'complex'>\n",
      "10.6 --> <class 'float'>\n",
      "(10-10j) --> <class 'complex'>\n"
     ]
    }
   ],
   "source": [
    "# 2.2\n",
    "\n",
    "x = 5\n",
    "y = 5.6\n",
    "z = 3-7j\n",
    "k = x + y\n",
    "l = 2-3j + z + x\n",
    "print(x, \"-->\", type(x))\n",
    "print(y, \"-->\", type(y))\n",
    "print(z, \"-->\", type(z))\n",
    "print(k, \"-->\", type(k))\n",
    "print(l, \"-->\", type(l))"
   ]
  },
  {
   "cell_type": "code",
   "execution_count": 3,
   "id": "f55de22c",
   "metadata": {},
   "outputs": [
    {
     "name": "stdout",
     "output_type": "stream",
     "text": [
      "5.0\n",
      "5\n",
      "(5+0j)\n",
      "<class 'float'>\n",
      "<class 'int'>\n",
      "<class 'complex'>\n"
     ]
    }
   ],
   "source": [
    "# 2.3\n",
    "\n",
    "x = 5      # int\n",
    "y = 5.6    # float\n",
    "\n",
    "#konversi dari integer ke float:\n",
    "a = float(x)\n",
    "#konversi dari float ke int:\n",
    "b = int(y)\n",
    "#konversi dari int ke complex:\n",
    "c = complex(x)\n",
    "\n",
    "print(a)\n",
    "print(b)\n",
    "print(c)\n",
    "\n",
    "print(type(a))\n",
    "print(type(b))\n",
    "print(type(c))"
   ]
  },
  {
   "cell_type": "code",
   "execution_count": 1,
   "id": "96f58808",
   "metadata": {},
   "outputs": [
    {
     "name": "stdout",
     "output_type": "stream",
     "text": [
      "ini string\n",
      "ini juga string\n",
      "jika string yang ingin dibuat sangat panjang, lebih dari satu baris makadapat dibuat seperti ini\n",
      "\n",
      "jika string yang ingin dibuat panjang lebih dari 1 maka dapat di apit dengan\"\"\"\n",
      "\n"
     ]
    }
   ],
   "source": [
    "# 2.4\n",
    "\n",
    "str1 = \"ini string\"\n",
    "str2 = 'ini juga string'\n",
    "\n",
    "str3 = '''jika string yang ingin dibuat sangat panjang, lebih dari satu baris makadapat dibuat seperti ini\n",
    "'''\n",
    "\n",
    "str4 = \"\"\"jika string yang ingin dibuat panjang lebih dari 1 maka dapat di apit dengan\\\"\"\"\n",
    "\"\"\"\n",
    "\n",
    "print(str1)\n",
    "print(str2)\n",
    "print(str3)\n",
    "print(str4)"
   ]
  },
  {
   "cell_type": "code",
   "execution_count": 2,
   "id": "dcf4f635",
   "metadata": {},
   "outputs": [
    {
     "name": "stdout",
     "output_type": "stream",
     "text": [
      "variable str1 dengan indeks ke 6 adalah : W\n"
     ]
    }
   ],
   "source": [
    "# 2.5 \n",
    "str1 = \"Hallo World\"\n",
    "print(\"variable str1 dengan indeks ke 6 adalah :\", str1[6])\n"
   ]
  },
  {
   "cell_type": "code",
   "execution_count": 4,
   "id": "ad8ee6e3",
   "metadata": {},
   "outputs": [
    {
     "name": "stdout",
     "output_type": "stream",
     "text": [
      "ya sedan\n",
      "sedang belajar pemotongan string\n",
      "saya \n",
      "saya sedang belajar pemotongan string\n",
      "sy eagbl\n"
     ]
    }
   ],
   "source": [
    "# 2.6 \n",
    "\n",
    "a=\"saya sedang belajar pemotongan string\"\n",
    "print(a[2:10])\n",
    "print(a[5:])\n",
    "print(a[:5])\n",
    "print(a[:])\n",
    "print(a[0:15:2])"
   ]
  },
  {
   "cell_type": "code",
   "execution_count": 8,
   "id": "5a6d26d8",
   "metadata": {},
   "outputs": [
    {
     "name": "stdout",
     "output_type": "stream",
     "text": [
      "aasdn\n",
      "aya \n",
      "aya sedang belajar pemotongan strin\n"
     ]
    }
   ],
   "source": [
    "# 2.7\n",
    "\n",
    "a=\"saya sedang belajar pemotongan string\"\n",
    "s1=slice(1,10,2)\n",
    "s2=slice(1,5)\n",
    "s3=slice(1,-1)\n",
    "\n",
    "print(a[s1])\n",
    "print(a[s2])\n",
    "print(a[s3])\n"
   ]
  },
  {
   "cell_type": "code",
   "execution_count": 9,
   "id": "624a68c9",
   "metadata": {},
   "outputs": [
    {
     "name": "stdout",
     "output_type": "stream",
     "text": [
      "38\n",
      "True\n",
      "False\n"
     ]
    }
   ],
   "source": [
    "# 2.8\n",
    "\n",
    "teks=\"saya mulai memahami string pada python\"\n",
    "\n",
    "print(len(teks))\n",
    "print(\"memahami\" in teks)\n",
    "print(\"memahami\" not in teks)"
   ]
  },
  {
   "cell_type": "code",
   "execution_count": 11,
   "id": "48bddba6",
   "metadata": {},
   "outputs": [
    {
     "name": "stdout",
     "output_type": "stream",
     "text": [
      "Saya sedang memodifikasi teks pada python\n",
      "saya sedang memodifikasi teks pada python\n",
      "                harga \tcabai naik                 \n",
      "6\n",
      "b'saya sedang Memodifikasi teks pada python'\n",
      "True\n",
      "harga     cabai naik\n",
      "30\n"
     ]
    }
   ],
   "source": [
    "# 2.9\n",
    "\n",
    "teks = \"saya sedang Memodifikasi teks pada python\"\n",
    "teks2 = \"harga \\tcabai naik\"\n",
    "\n",
    "print(teks.capitalize())\n",
    "print(teks.casefold())\n",
    "print(teks2.center(50))\n",
    "print(teks.count(\"a\"))\n",
    "print(teks.encode())\n",
    "print(teks.endswith(\"python\"))\n",
    "print(teks2.expandtabs(5))\n",
    "print(teks.find(\"pada\"))"
   ]
  },
  {
   "cell_type": "code",
   "execution_count": 12,
   "id": "9b0f9f23",
   "metadata": {},
   "outputs": [
    {
     "name": "stdout",
     "output_type": "stream",
     "text": [
      "harga \tcabai  25000 rupiah\n",
      "3\n",
      "False\n",
      "True\n"
     ]
    }
   ],
   "source": [
    "# 2.10\n",
    "\n",
    "teks = \"harga \\tcabai {harga: .0f} rupiah\"\n",
    "teks2 = \"inialphabet\"\n",
    "\n",
    "print(teks.format(harga = 25000))\n",
    "print(teks.index(\"ga\"))\n",
    "print(teks.isalnum())\n",
    "print(teks2.isalpha())"
   ]
  }
 ],
 "metadata": {
  "kernelspec": {
   "display_name": "base",
   "language": "python",
   "name": "python3"
  },
  "language_info": {
   "codemirror_mode": {
    "name": "ipython",
    "version": 3
   },
   "file_extension": ".py",
   "mimetype": "text/x-python",
   "name": "python",
   "nbconvert_exporter": "python",
   "pygments_lexer": "ipython3",
   "version": "3.12.7"
  }
 },
 "nbformat": 4,
 "nbformat_minor": 5
}
