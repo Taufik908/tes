{
 "cells": [
  {
   "cell_type": "markdown",
   "id": "f19e9420-fb52-496b-9360-72836109d9b5",
   "metadata": {},
   "source": [
    "# **LATIHAN KISI-KISI UAS**  \n",
    "## **ALGORITMA & STRUKTUR DATA – SOAL LATIHAN KISI-KISI UAS**  \n",
    "### **Program Studi Teknik Informatika – Universitas Muhammadiyah Kalimantan Timur**\n",
    "\n",
    "---\n"
   ]
  },
  {
   "cell_type": "markdown",
   "id": "3a120962-0d8c-4812-8790-d397b7b945d0",
   "metadata": {},
   "source": [
    "## Identitas Mahasiswa\n",
    "NAMA    : ...\n",
    "\n",
    "NIM     : ...\n",
    "\n",
    "KELAS   : ...\n",
    "\n",
    "---"
   ]
  },
  {
   "cell_type": "markdown",
   "id": "b44fcfba-b950-4a24-a67e-5bf9c0f8901c",
   "metadata": {},
   "source": [
    "\n",
    "## **1. KISI-KISI UAS**  \n",
    "### **1.1 STRUKTUR DATA LINIER**  \n",
    "- Pelajari tipe data dasar\n",
    "- Pelajari Struktur Data linier (Stack dan Queue) \n",
    "### **1.2 PENERAPAN ALGORITMA SEDERHANA**  \n",
    "- Pelajari algortima sorting yang telah dipelajari (Bubble sort, Insertion sort, DLL).  \n",
    "- Pelajari algortima searching yang telah dipelajari (Linier search, Binnary search, DLL).  \n",
    "- Pelajari cara pendefinisian pohon pada Tree Algorihm dan pelajari algoritma pencarian Binary Search Tree (BST).\n",
    "### **1.3 PENERAPAN GRAPH sederhana**\n",
    "- Pelajari cara membuat graph sederhana\n",
    "- Pelajari pengertian yang ada di graph (node, edge, weight, DLL)\n"
   ]
  },
  {
   "cell_type": "markdown",
   "id": "748f86b9-93df-47e0-bd39-39f346d94a65",
   "metadata": {},
   "source": [
    "\n",
    "## **YANG TELAH ANDA KETAHUI MENGENAI SOAL UAS**  \n",
    "\n",
    "1. Soal anda dan teman anda berbeda\n",
    "2. dapat dipastikan salah satu dari 3 algoritma menjadi bagian soal yang anda dapatkan (hanya satu yang mungkin menjadi study\n",
    "   case anda entah searching, sorting, atau tree algorithm tergantung amal dan ibadah)  \n",
    "3. waktu pengerjaan 60 menit dengan persiapan 30 menit\n",
    "4. Boleh membawa buku catatan tertulis (tidak boleh print tempel)\n",
    "5. Soal UAS berjumlah 6 (3 praktikum dan 3 teori)\n",
    "6. Tidak ada penggunaan AI dan sejenisnya (AI = 0)\n",
    "7. beberapa peraturan mungkin akan bertambah atau dihapuskan hingga fix H-7 sebelum UAS\n",
    "---\n"
   ]
  },
  {
   "cell_type": "markdown",
   "id": "a2bbf7ac-ff63-4155-8dbd-640e4fdeb329",
   "metadata": {},
   "source": [
    "Berikut susunan soal kisi-kisi LATIHAN **sudah diurutkan dari yang paling mudah ke yang paling menantang**, berdasarkan tingkat kompleksitas logika, sintaks, dan pemahaman visualisasi. Perlu diingat soal akan berbeda dengan UAS soal ini hanya membantu latihan anda! :\n",
    "\n",
    "\n",
    "### **1 STRUKTUR DATA**\n",
    "---\n",
    "Buatlah sebuah program menggunakan bahasa Python untuk mengimplementasikan struktur data stack. Program harus menyusun data berupa angka 1345879854 ke dalam stack dengan ketentuan sebagai berikut:\n",
    "\n",
    "1. Setiap dua digit angka dianggap sebagai satu elemen data.\n",
    "\n",
    "2. Masukkan setiap elemen ke dalam stack satu per satu (dari kiri ke kanan).\n",
    "\n",
    "3. Setelah semua data masuk ke dalam stack, tampilkan isi stack dari bawah ke atas.\n",
    "\n",
    "4. tampilkan setiap elemen dari stack satu per satu hingga kosong.\n",
    "\n",
    "\n",
    "Jika soalnya tentang struktur data **queue**, maka program akan menggunakan prinsip **FIFO (First In First Out)**. Berikut langkah-langkahnya:\n",
    "\n",
    "1. Setiap dua digit angka dianggap sebagai satu elemen data.\n",
    "2. Masukkan setiap elemen ke dalam queue satu per satu (dari kiri ke kanan).\n",
    "3. Setelah semua data masuk ke dalam queue, tampilkan isi queue dari depan ke belakang.\n",
    "4. Tampilkan setiap elemen dari queue satu per satu hingga kosong (menggunakan operasi dequeue).\n",
    "\n",
    "Dengan queue, elemen yang pertama masuk akan menjadi yang pertama keluar, berbeda dengan stack yang menggunakan prinsip LIFO (Last In First Out)."
   ]
  },
  {
   "cell_type": "code",
   "execution_count": 8,
   "id": "608b8671-7806-4e1b-bcab-9f0be07cf69f",
   "metadata": {},
   "outputs": [
    {
     "name": "stdout",
     "output_type": "stream",
     "text": [
      "13\n",
      "45\n",
      "87\n",
      "98\n",
      "54\n",
      "Popping elements from stack:\n",
      "54\n",
      "98\n",
      "87\n",
      "45\n",
      "13\n",
      "Isi queue dari depan ke belakang:\n",
      "13\n",
      "45\n",
      "87\n",
      "98\n",
      "54\n",
      "Dequeuing elements from queue:\n",
      "13\n",
      "45\n",
      "87\n",
      "98\n",
      "54\n"
     ]
    }
   ],
   "source": [
    "\n",
    "\n",
    "# Ketikan kode dan penjelasan disini!\n",
    "\n",
    "\n",
    "class Stack():\n",
    "    def __init__(self):\n",
    "        self.items = []\n",
    "\n",
    "    def isEmpty(self):\n",
    "        return self.items == []\n",
    "    def push(self, item):\n",
    "        self.items.append(item)\n",
    "\n",
    "    def pop(self):\n",
    "        return self.items.pop()\n",
    "    \n",
    "    def peek(self):\n",
    "        return self.items[len(self.items)-1]\n",
    "    \n",
    "    def size(self):\n",
    "        return len(self.items)\n",
    "    \n",
    "data = \"1345879854\" # data yang akan dimasukkan ke stack\n",
    "\n",
    "s = Stack() # membuat objek stack\n",
    "\n",
    "\n",
    "\n",
    "for i in range(0, len(data),2): # mengambil 2 karakter sekaligus\n",
    "    element = data[i:i+2] # mengambil 2 karakter\n",
    "    s.push(element) # menambahkan ke stack\n",
    "\n",
    "\n",
    "for i in s.items: # mengakses setiap elemen dalam stack\n",
    "    print(i) # menampilkan elemen\n",
    "\n",
    "print(\"Popping elements from stack:\")\n",
    "print(s.pop())\n",
    "print(s.pop())\n",
    "print(s.pop())\n",
    "print(s.pop())\n",
    "print(s.pop())\n",
    "\n",
    "\n",
    "# Jika soalnya tentang struktur data queue\n",
    "\n",
    "class Queue:\n",
    "    def __init__(self):\n",
    "        self.items = deque()\n",
    "\n",
    "    def isEmpty(self):\n",
    "        return len(self.items) == 0\n",
    "\n",
    "    def enqueue(self, item):\n",
    "        self.items.append(item)\n",
    "\n",
    "    def dequeue(self):\n",
    "        return self.items.popleft()\n",
    "\n",
    "    def peek(self):\n",
    "        return self.items[0]\n",
    "\n",
    "    def size(self):\n",
    "        return len(self.items)\n",
    "    \n",
    "# Implementasi jika soalnya tentang queue\n",
    "\n",
    "q = Queue()  # membuat objek queue\n",
    "\n",
    "# Memasukkan setiap dua digit angka ke dalam queue\n",
    "for i in range(0, len(data), 2):\n",
    "    element = data[i:i+2]\n",
    "    q.enqueue(element)\n",
    "\n",
    "# Menampilkan isi queue dari depan ke belakang\n",
    "print(\"Isi queue dari depan ke belakang:\")\n",
    "for item in q.items:\n",
    "    print(item)\n",
    "\n",
    "# Mengeluarkan setiap elemen dari queue satu per satu hingga kosong\n",
    "print(\"Dequeuing elements from queue:\")\n",
    "while not q.isEmpty():\n",
    "    print(q.dequeue())\n",
    "\n"
   ]
  },
  {
   "cell_type": "markdown",
   "id": "a6c574f1-91e6-475f-b63b-6de2ed5f6602",
   "metadata": {},
   "source": [
    "*Berikan Penjelasan disini*"
   ]
  },
  {
   "cell_type": "markdown",
   "id": "bf4b16ed-3d15-43af-a2c9-9a9e3e673bab",
   "metadata": {},
   "source": [
    "\n",
    "### **2 PENERAPAN ALGORITMA**\n",
    "---\n",
    "Berdasarkan data stack yang anda buat pada soal nomor 1, lakukan proses sorting pada stack yang telah anda buat. Program harus menyusun data secara Ascending dengan menggunakan algoritma Bubble sort !!"
   ]
  },
  {
   "cell_type": "code",
   "execution_count": 10,
   "id": "ecf2371d-3107-4374-905a-55697aa051e5",
   "metadata": {},
   "outputs": [
    {
     "name": "stdout",
     "output_type": "stream",
     "text": [
      "Stack setelah diurutkan (Ascending):\n"
     ]
    }
   ],
   "source": [
    "# Ketikan kode dan penjelasan disini!\n",
    "\n",
    "\n",
    "# Bubble sort pada data stack (ascending)\n",
    "stack_data = s.items.copy()  # membuat salinan dari stack untuk diurutkan\n",
    "\n",
    "n = len(stack_data) # panjang data stack\n",
    "for i in range(n): # iterasi untuk setiap elemen\n",
    "    for j in range(0, n-i-1): # iterasi untuk membandingkan elemen\n",
    "        if stack_data[j] > stack_data[j+1]: # jika elemen saat ini lebih besar dari elemen berikutnya\n",
    "            stack_data[j], stack_data[j+1] = stack_data[j+1], stack_data[j] # tukar posisi elemen\n",
    "\n",
    "print(\"Stack setelah diurutkan (Ascending):\")\n",
    "for item in stack_data:\n",
    "    print(item)\n"
   ]
  },
  {
   "cell_type": "markdown",
   "id": "95f18913-7569-4fc8-9ca7-76190aff15d1",
   "metadata": {},
   "source": [
    "*Berikan Penjelasan disini*"
   ]
  },
  {
   "cell_type": "markdown",
   "id": "ad7ec3a7-6fd2-4410-9f81-3140438b38c3",
   "metadata": {},
   "source": [
    "\n",
    "### **3 Visualisasi Graf Relasi**\n",
    "---\n",
    "Buatlah Graf relasi dengan node yang berasal dari data stack yang anda buat sebelumnya dengan edge yang saing terhubung antar node"
   ]
  },
  {
   "cell_type": "code",
   "execution_count": 25,
   "id": "38882d65-2106-485a-85be-bdde8249fafe",
   "metadata": {},
   "outputs": [
    {
     "data": {
      "image/png": "[encoded data removed]",
      "text/plain": [
       "<Figure size 600x400 with 1 Axes>"
      ]
     },
     "metadata": {},
     "output_type": "display_data"
    }
   ],
   "source": [
    "import networkx as nx # Modul untuk membuat dan memanipulasi graf\n",
    "\n",
    "# Ketikan kode dan penjelasan disini!\n",
    "\n",
    "import matplotlib.pyplot as plt # Modul untuk visualisasi graf\n",
    "\n",
    "# Membuat graph kosong\n",
    "G = nx.Graph()\n",
    "\n",
    "# Menambahkan node dari stack_data\n",
    "G.add_nodes_from(stack_data)\n",
    "\n",
    "# Menambahkan edge antar node yang saling terhubung (berurutan)\n",
    "for idx in range(len(stack_data) - 1): # iterasi untuk setiap elemen kecuali yang terakhir\n",
    "    G.add_edge(stack_data[idx], stack_data[idx + 1]) # menambahkan edge antara elemen saat ini dan berikutnya\n",
    "\n",
    "# Visualisasi graf\n",
    "\n",
    "plt.figure(figsize=(6,4)) # ukuran figure\n",
    "nx.draw(G, with_labels=True, node_color='skyblue', node_size=1200, font_size=14, font_weight='bold', edge_color='gray') # menampilkan graf dengan label\n",
    "plt.title(\"Graf Relasi Data Stack\") # judul graf\n",
    "plt.show() # menampilkan graf"
   ]
  },
  {
   "cell_type": "markdown",
   "id": "951f6627-6182-4277-b4bb-860376cd5cb6",
   "metadata": {},
   "source": [
    "*Berikan Penjelasan disini*"
   ]
  },
  {
   "cell_type": "markdown",
   "id": "3fde2a88-07f8-463e-bac1-e3a87afdb3b2",
   "metadata": {},
   "source": [
    "---\n",
    "\n",
    "# **CATATAN PENTING** #\n",
    "- SOAL INI TIDAK DIKUMPUL, TETAPI AKAN DIBAHAS DIPERTEMUAN SELANJUTNYA PELAJARI!!!. MUNGKIN SAJA ANDA YANG TERTUNJUK UNTUK MENJELASKAN !!!  \n"
   ]
  }
 ],
 "metadata": {
  "kernelspec": {
   "display_name": "base",
   "language": "python",
   "name": "python3"
  },
  "language_info": {
   "codemirror_mode": {
    "name": "ipython",
    "version": 3
   },
   "file_extension": ".py",
   "mimetype": "text/x-python",
   "name": "python",
   "nbconvert_exporter": "python",
   "pygments_lexer": "ipython3",
   "version": "3.12.7"
  },
  "widgets": {
   "application/vnd.jupyter.widget-state+json": {
    "state": {},
    "version_major": 2,
    "version_minor": 0
   }
  }
 },
 "nbformat": 4,
 "nbformat_minor": 5
}
